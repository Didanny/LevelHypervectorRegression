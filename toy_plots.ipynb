{
 "cells": [
  {
   "cell_type": "code",
   "execution_count": 1,
   "metadata": {},
   "outputs": [],
   "source": [
    "import torch\n",
    "import torchhd\n",
    "from torchmetrics import MeanAbsoluteError\n",
    "import pandas as pd\n",
    "import seaborn as sns"
   ]
  },
  {
   "cell_type": "code",
   "execution_count": 2,
   "metadata": {},
   "outputs": [],
   "source": [
    "samples = torchhd.functional.random_hv(3, 512)\n",
    "levels = torchhd.functional.level_hv(5, 512, randomness=1)\n",
    "assignments = torch.randint(0, 5, (3,))"
   ]
  },
  {
   "cell_type": "code",
   "execution_count": 3,
   "metadata": {},
   "outputs": [
    {
     "data": {
      "text/plain": [
       "MAP([[ 1., -1.,  1.,  ...,  1., -1., -1.],\n",
       "     [ 1., -1.,  1.,  ...,  1., -1., -1.],\n",
       "     [ 1.,  1.,  1.,  ...,  1.,  1., -1.]])"
      ]
     },
     "execution_count": 3,
     "metadata": {},
     "output_type": "execute_result"
    }
   ],
   "source": [
    "targets = levels[assignments]\n",
    "targets"
   ]
  },
  {
   "cell_type": "code",
   "execution_count": 4,
   "metadata": {},
   "outputs": [
    {
     "data": {
      "text/plain": [
       "MAP([-1., -3., -1.,  3., -1., -1.,  1.,  1., -1., -1., -1., -1.,  1., -1.,  1.,\n",
       "     -1.,  1.,  1., -1.,  3., -3., -1.,  1.,  1.,  3.,  3., -1., -1.,  3.,  1.,\n",
       "     -1., -1., -1.,  3., -1.,  3., -1., -1.,  1.,  1., -3., -1.,  1., -1., -1.,\n",
       "      1.,  1.,  1.,  3.,  1., -1.,  3.,  1.,  3., -1.,  1.,  1., -1.,  1.,  3.,\n",
       "     -1., -1.,  3.,  1.,  3., -1., -1., -3., -1., -1., -3., -1.,  1., -1.,  1.,\n",
       "     -1.,  3.,  1., -1., -1.,  1., -3., -1.,  1., -3.,  1.,  1.,  1., -1., -3.,\n",
       "     -1., -1.,  3., -1.,  1., -1.,  3., -1.,  1., -1.,  1.,  3., -1., -1., -1.,\n",
       "      1., -1.,  3.,  3.,  1., -1.,  3., -3.,  3., -1., -1.,  1., -3.,  3., -1.,\n",
       "     -1.,  1., -1.,  1.,  1., -3., -1.,  3.,  1., -1.,  3., -1.,  1.,  1., -1.,\n",
       "      1., -1., -1., -3., -3., -3.,  1., -1.,  1.,  3.,  1., -1.,  1.,  3., -1.,\n",
       "      1.,  1., -1.,  1., -3.,  1., -3., -1.,  1.,  1., -1.,  1.,  1.,  1.,  3.,\n",
       "     -3.,  1.,  1.,  1., -1., -1., -1.,  1., -3., -1.,  1.,  1., -1., -3.,  3.,\n",
       "      1.,  3., -3.,  1.,  1., -1., -3., -1.,  1., -1., -3.,  1.,  1., -1., -1.,\n",
       "     -3.,  1., -1., -1., -1.,  3.,  1.,  1.,  1., -1.,  1.,  1., -1., -3.,  1.,\n",
       "     -1., -3.,  1.,  1.,  1.,  1.,  1.,  3., -1.,  1., -1.,  1.,  1.,  1.,  1.,\n",
       "      1.,  3., -1.,  1., -1., -1., -1.,  3., -1., -1.,  1.,  1., -3., -1.,  1.,\n",
       "     -3., -1.,  1., -1., -1.,  1., -3., -1., -1.,  1.,  1.,  1., -1., -3.,  1.,\n",
       "     -3.,  3., -1.,  3., -1.,  1., -3.,  1.,  1.,  1., -3., -1.,  1., -1., -1.,\n",
       "     -1.,  1., -1., -1., -1., -1.,  3.,  1.,  1.,  3.,  1., -1.,  1., -1.,  1.,\n",
       "      1., -1., -3., -1., -1., -1., -1., -1.,  1., -1., -3.,  1., -1., -1., -1.,\n",
       "      1.,  1.,  1., -1., -3., -1.,  1., -3.,  1.,  1.,  3., -1., -1., -3., -1.,\n",
       "     -1., -1., -1., -3.,  1., -1., -1.,  1., -1., -3.,  1., -1., -1.,  3., -1.,\n",
       "     -3.,  1.,  1., -1., -1., -1.,  1.,  1.,  1.,  1.,  1.,  1.,  1., -1.,  1.,\n",
       "      1., -3.,  1., -1.,  3., -1.,  1., -1., -1., -1., -1., -1., -1., -1.,  1.,\n",
       "      1., -3.,  1.,  1., -3.,  1.,  1., -1., -1.,  1., -1.,  1., -1.,  1.,  3.,\n",
       "      3.,  1., -1., -3., -3.,  1., -1., -1.,  1., -1.,  1.,  1.,  3.,  3.,  1.,\n",
       "      1.,  1., -1., -1., -3., -3.,  1.,  1.,  3., -1., -1.,  1.,  1.,  1.,  3.,\n",
       "     -1.,  1.,  3.,  1.,  1., -1., -3.,  1., -1., -1., -3.,  1., -3., -3.,  1.,\n",
       "      1.,  1., -1., -3., -1.,  1., -1.,  3., -1.,  1., -1., -3.,  1., -3., -1.,\n",
       "     -1., -3., -3., -1., -1.,  1.,  1.,  1., -1., -1.,  1., -3., -1., -1.,  1.,\n",
       "     -1., -1., -1.,  1.,  1., -1.,  1.,  3., -1.,  1., -1., -1., -1.,  3.,  1.,\n",
       "     -1.,  1.,  1.,  1.,  1., -3., -1.,  1.,  1., -1., -3., -1., -1.,  1., -1.,\n",
       "      3., -1.,  1., -1.,  1.,  3., -1.,  1.,  1.,  1., -3., -1.,  1.,  1., -3.,\n",
       "     -1., -1.,  1., -3.,  1.,  1.,  3.,  1.,  3., -3., -3.,  3., -1.,  1., -1.,\n",
       "      1., -3.])"
      ]
     },
     "execution_count": 4,
     "metadata": {},
     "output_type": "execute_result"
    }
   ],
   "source": [
    "table = torchhd.functional.hash_table(samples, targets)\n",
    "table"
   ]
  },
  {
   "cell_type": "code",
   "execution_count": 5,
   "metadata": {},
   "outputs": [
    {
     "data": {
      "text/plain": [
       "MAP([ 0.0484, -0.0507,  0.5736,  0.0253,  0.0161])"
      ]
     },
     "execution_count": 5,
     "metadata": {},
     "output_type": "execute_result"
    }
   ],
   "source": [
    "noisy = torchhd.bind(table, torchhd.inverse(samples[0]))\n",
    "torchhd.cos_similarity(noisy, levels)"
   ]
  },
  {
   "cell_type": "code",
   "execution_count": 6,
   "metadata": {},
   "outputs": [
    {
     "data": {
      "text/plain": [
       "MAP([[ 1., -1.,  1.,  ...,  1., -1., -1.],\n",
       "     [ 1., -1.,  1.,  ...,  1., -1., -1.],\n",
       "     [ 1.,  1.,  1.,  ...,  1.,  1., -1.]])"
      ]
     },
     "execution_count": 6,
     "metadata": {},
     "output_type": "execute_result"
    }
   ],
   "source": [
    "targets"
   ]
  },
  {
   "cell_type": "code",
   "execution_count": 7,
   "metadata": {},
   "outputs": [
    {
     "data": {
      "text/plain": [
       "tensor([2, 2, 0])"
      ]
     },
     "execution_count": 7,
     "metadata": {},
     "output_type": "execute_result"
    }
   ],
   "source": [
    "assignments"
   ]
  },
  {
   "attachments": {},
   "cell_type": "markdown",
   "metadata": {},
   "source": [
    "#### Creating the Toy Data"
   ]
  },
  {
   "cell_type": "code",
   "execution_count": 8,
   "metadata": {},
   "outputs": [
    {
     "data": {
      "text/plain": [
       "tensor([ 0.4580, -0.9683, -0.2096,  0.3796,  0.2956,  0.7668,  0.0811, -0.4053,\n",
       "        -0.4567,  0.0940])"
      ]
     },
     "execution_count": 8,
     "metadata": {},
     "output_type": "execute_result"
    }
   ],
   "source": [
    "(torch.rand(10) * 2) - 1"
   ]
  },
  {
   "cell_type": "code",
   "execution_count": 9,
   "metadata": {},
   "outputs": [],
   "source": [
    "def create_toy_data(num_samples, num_dimensions):\n",
    "    samples = torchhd.functional.random_hv(num_samples, num_dimensions)\n",
    "    targets = (torch.rand(num_samples) * 2) - 1\n",
    "    return samples, targets"
   ]
  },
  {
   "attachments": {},
   "cell_type": "markdown",
   "metadata": {},
   "source": [
    "#### Number of Samples Experimentation"
   ]
  },
  {
   "cell_type": "code",
   "execution_count": 10,
   "metadata": {},
   "outputs": [],
   "source": [
    "DIMENSIONS = 512\n",
    "NUM_LEVELS = 100\n",
    "NUM_TRIALS = 100\n",
    "num_samples = [1, 2, 4, 8, 16, 32, 64, 128, 256, 512]"
   ]
  },
  {
   "cell_type": "code",
   "execution_count": 11,
   "metadata": {},
   "outputs": [],
   "source": [
    "samples, targets = create_toy_data(num_samples[-1], DIMENSIONS)"
   ]
  },
  {
   "cell_type": "code",
   "execution_count": 12,
   "metadata": {},
   "outputs": [],
   "source": [
    "get_level_hv = torchhd.embeddings.Level(NUM_LEVELS, DIMENSIONS, low=-1, high=1)"
   ]
  },
  {
   "cell_type": "code",
   "execution_count": 13,
   "metadata": {},
   "outputs": [
    {
     "data": {
      "text/plain": [
       "tensor([[0., 0., 0., 0., 0., 0., 0., 0., 0., 0.],\n",
       "        [0., 0., 5., 0., 0., 0., 0., 0., 0., 0.],\n",
       "        [0., 0., 0., 0., 0., 0., 0., 0., 0., 0.]])"
      ]
     },
     "execution_count": 13,
     "metadata": {},
     "output_type": "execute_result"
    }
   ],
   "source": [
    "t = torch.zeros((3, 10))\n",
    "t[1, 2] = 5\n",
    "t"
   ]
  },
  {
   "cell_type": "code",
   "execution_count": 14,
   "metadata": {},
   "outputs": [],
   "source": [
    "errors = torch.zeros((NUM_TRIALS, len(num_samples)))\n",
    "for trial in range(NUM_TRIALS):\n",
    "    samples, targets = create_toy_data(num_samples[-1], DIMENSIONS)\n",
    "    levels = get_level_hv(targets)\n",
    "    for m, n in enumerate(num_samples):\n",
    "        mae = MeanAbsoluteError()\n",
    "        memory = torchhd.functional.hash_table(samples[:n], levels[:n])\n",
    "        for i in range(n):\n",
    "            s = samples[i]\n",
    "            l = levels[i]\n",
    "            l_p = torchhd.bind(memory, torchhd.inverse(s))\n",
    "            sim = torchhd.cos_similarity(l_p, get_level_hv.weight)\n",
    "            idx = sim.argmax()\n",
    "            p = torchhd.functional.map_range(idx.to(torch.float), 0, NUM_LEVELS - 1, -1, 1)\n",
    "            mae.update(p, targets[i])\n",
    "        errors[trial, m] = mae.compute()            "
   ]
  },
  {
   "cell_type": "code",
   "execution_count": 16,
   "metadata": {},
   "outputs": [
    {
     "data": {
      "text/html": [
       "<div>\n",
       "<style scoped>\n",
       "    .dataframe tbody tr th:only-of-type {\n",
       "        vertical-align: middle;\n",
       "    }\n",
       "\n",
       "    .dataframe tbody tr th {\n",
       "        vertical-align: top;\n",
       "    }\n",
       "\n",
       "    .dataframe thead th {\n",
       "        text-align: right;\n",
       "    }\n",
       "</style>\n",
       "<table border=\"1\" class=\"dataframe\">\n",
       "  <thead>\n",
       "    <tr style=\"text-align: right;\">\n",
       "      <th></th>\n",
       "      <th>Number of Samples</th>\n",
       "      <th>MAE</th>\n",
       "    </tr>\n",
       "  </thead>\n",
       "  <tbody>\n",
       "    <tr>\n",
       "      <th>0</th>\n",
       "      <td>1</td>\n",
       "      <td>0.000417</td>\n",
       "    </tr>\n",
       "    <tr>\n",
       "      <th>1</th>\n",
       "      <td>1</td>\n",
       "      <td>0.004138</td>\n",
       "    </tr>\n",
       "    <tr>\n",
       "      <th>2</th>\n",
       "      <td>1</td>\n",
       "      <td>0.008718</td>\n",
       "    </tr>\n",
       "    <tr>\n",
       "      <th>3</th>\n",
       "      <td>1</td>\n",
       "      <td>0.008165</td>\n",
       "    </tr>\n",
       "    <tr>\n",
       "      <th>4</th>\n",
       "      <td>1</td>\n",
       "      <td>0.007771</td>\n",
       "    </tr>\n",
       "    <tr>\n",
       "      <th>...</th>\n",
       "      <td>...</td>\n",
       "      <td>...</td>\n",
       "    </tr>\n",
       "    <tr>\n",
       "      <th>995</th>\n",
       "      <td>512</td>\n",
       "      <td>0.515621</td>\n",
       "    </tr>\n",
       "    <tr>\n",
       "      <th>996</th>\n",
       "      <td>512</td>\n",
       "      <td>0.557751</td>\n",
       "    </tr>\n",
       "    <tr>\n",
       "      <th>997</th>\n",
       "      <td>512</td>\n",
       "      <td>0.556522</td>\n",
       "    </tr>\n",
       "    <tr>\n",
       "      <th>998</th>\n",
       "      <td>512</td>\n",
       "      <td>0.492680</td>\n",
       "    </tr>\n",
       "    <tr>\n",
       "      <th>999</th>\n",
       "      <td>512</td>\n",
       "      <td>0.501507</td>\n",
       "    </tr>\n",
       "  </tbody>\n",
       "</table>\n",
       "<p>1000 rows × 2 columns</p>\n",
       "</div>"
      ],
      "text/plain": [
       "     Number of Samples       MAE\n",
       "0                    1  0.000417\n",
       "1                    1  0.004138\n",
       "2                    1  0.008718\n",
       "3                    1  0.008165\n",
       "4                    1  0.007771\n",
       "..                 ...       ...\n",
       "995                512  0.515621\n",
       "996                512  0.557751\n",
       "997                512  0.556522\n",
       "998                512  0.492680\n",
       "999                512  0.501507\n",
       "\n",
       "[1000 rows x 2 columns]"
      ]
     },
     "execution_count": 16,
     "metadata": {},
     "output_type": "execute_result"
    }
   ],
   "source": [
    "errors_df = pd.DataFrame(errors.numpy(), columns=num_samples)\n",
    "errors_df = errors_df.rename_axis(columns=\"Number of Samples\")\n",
    "errors_df = pd.melt(errors_df)\n",
    "errors_df = errors_df.rename(columns={\"value\": \"MAE\"})\n",
    "errors_df"
   ]
  },
  {
   "cell_type": "code",
   "execution_count": 17,
   "metadata": {},
   "outputs": [
    {
     "data": {
      "text/plain": [
       "<AxesSubplot: xlabel='Number of Samples', ylabel='MAE'>"
      ]
     },
     "execution_count": 17,
     "metadata": {},
     "output_type": "execute_result"
    },
    {
     "data": {
      "image/png": "[encoded data removed]",
      "text/plain": [
       "<Figure size 640x480 with 1 Axes>"
      ]
     },
     "metadata": {},
     "output_type": "display_data"
    }
   ],
   "source": [
    "sns.lineplot(data=errors_df, x=\"Number of Samples\", y=\"MAE\")"
   ]
  },
  {
   "attachments": {},
   "cell_type": "markdown",
   "metadata": {},
   "source": [
    "#### Number of Levels Experimentation"
   ]
  },
  {
   "cell_type": "code",
   "execution_count": 18,
   "metadata": {},
   "outputs": [],
   "source": [
    "DIMENSIONS = 512\n",
    "NUM_TRIALS = 100\n",
    "NUM_SAMPLES = 128\n",
    "num_levels = [2, 4, 8, 16, 32, 64, 128, 256, 512, 1024]"
   ]
  },
  {
   "cell_type": "code",
   "execution_count": 19,
   "metadata": {},
   "outputs": [],
   "source": [
    "errors = torch.zeros((NUM_TRIALS, len(num_levels)))\n",
    "for trial in range(NUM_TRIALS):\n",
    "    samples, targets = create_toy_data(NUM_SAMPLES, DIMENSIONS)\n",
    "    for m, n in enumerate(num_levels):\n",
    "        mae = MeanAbsoluteError()\n",
    "        get_level_hv = torchhd.embeddings.Level(n, DIMENSIONS, low=-1, high=1)\n",
    "        levels = get_level_hv(targets)\n",
    "        memory = torchhd.functional.hash_table(samples, levels)\n",
    "        for i in range(NUM_SAMPLES):\n",
    "            s = samples[i]\n",
    "            l = levels[i]\n",
    "            l_p = torchhd.bind(memory, torchhd.inverse(s))\n",
    "            sim = torchhd.cos_similarity(l_p, get_level_hv.weight)\n",
    "            idx = sim.argmax()\n",
    "            p = torchhd.functional.map_range(idx.to(torch.float), 0, n - 1, -1, 1)\n",
    "            mae.update(p, targets[i])\n",
    "        errors[trial, m] = mae.compute()"
   ]
  },
  {
   "cell_type": "code",
   "execution_count": 20,
   "metadata": {},
   "outputs": [
    {
     "data": {
      "text/html": [
       "<div>\n",
       "<style scoped>\n",
       "    .dataframe tbody tr th:only-of-type {\n",
       "        vertical-align: middle;\n",
       "    }\n",
       "\n",
       "    .dataframe tbody tr th {\n",
       "        vertical-align: top;\n",
       "    }\n",
       "\n",
       "    .dataframe thead th {\n",
       "        text-align: right;\n",
       "    }\n",
       "</style>\n",
       "<table border=\"1\" class=\"dataframe\">\n",
       "  <thead>\n",
       "    <tr style=\"text-align: right;\">\n",
       "      <th></th>\n",
       "      <th>Number of Levels</th>\n",
       "      <th>MAE</th>\n",
       "    </tr>\n",
       "  </thead>\n",
       "  <tbody>\n",
       "    <tr>\n",
       "      <th>0</th>\n",
       "      <td>2</td>\n",
       "      <td>0.916356</td>\n",
       "    </tr>\n",
       "    <tr>\n",
       "      <th>1</th>\n",
       "      <td>2</td>\n",
       "      <td>1.020575</td>\n",
       "    </tr>\n",
       "    <tr>\n",
       "      <th>2</th>\n",
       "      <td>2</td>\n",
       "      <td>0.855763</td>\n",
       "    </tr>\n",
       "    <tr>\n",
       "      <th>3</th>\n",
       "      <td>2</td>\n",
       "      <td>1.043873</td>\n",
       "    </tr>\n",
       "    <tr>\n",
       "      <th>4</th>\n",
       "      <td>2</td>\n",
       "      <td>1.024678</td>\n",
       "    </tr>\n",
       "    <tr>\n",
       "      <th>...</th>\n",
       "      <td>...</td>\n",
       "      <td>...</td>\n",
       "    </tr>\n",
       "    <tr>\n",
       "      <th>995</th>\n",
       "      <td>1024</td>\n",
       "      <td>8.882533</td>\n",
       "    </tr>\n",
       "    <tr>\n",
       "      <th>996</th>\n",
       "      <td>1024</td>\n",
       "      <td>8.501077</td>\n",
       "    </tr>\n",
       "    <tr>\n",
       "      <th>997</th>\n",
       "      <td>1024</td>\n",
       "      <td>9.609794</td>\n",
       "    </tr>\n",
       "    <tr>\n",
       "      <th>998</th>\n",
       "      <td>1024</td>\n",
       "      <td>8.697655</td>\n",
       "    </tr>\n",
       "    <tr>\n",
       "      <th>999</th>\n",
       "      <td>1024</td>\n",
       "      <td>9.463927</td>\n",
       "    </tr>\n",
       "  </tbody>\n",
       "</table>\n",
       "<p>1000 rows × 2 columns</p>\n",
       "</div>"
      ],
      "text/plain": [
       "     Number of Levels       MAE\n",
       "0                   2  0.916356\n",
       "1                   2  1.020575\n",
       "2                   2  0.855763\n",
       "3                   2  1.043873\n",
       "4                   2  1.024678\n",
       "..                ...       ...\n",
       "995              1024  8.882533\n",
       "996              1024  8.501077\n",
       "997              1024  9.609794\n",
       "998              1024  8.697655\n",
       "999              1024  9.463927\n",
       "\n",
       "[1000 rows x 2 columns]"
      ]
     },
     "execution_count": 20,
     "metadata": {},
     "output_type": "execute_result"
    }
   ],
   "source": [
    "errors_df = pd.DataFrame(errors.numpy(), columns=num_levels)\n",
    "errors_df = errors_df.rename_axis(columns=\"Number of Levels\")\n",
    "errors_df = pd.melt(errors_df)\n",
    "errors_df = errors_df.rename(columns={\"value\": \"MAE\"})\n",
    "errors_df"
   ]
  },
  {
   "cell_type": "code",
   "execution_count": 21,
   "metadata": {},
   "outputs": [
    {
     "data": {
      "text/plain": [
       "<AxesSubplot: xlabel='Number of Levels', ylabel='MAE'>"
      ]
     },
     "execution_count": 21,
     "metadata": {},
     "output_type": "execute_result"
    },
    {
     "data": {
      "image/png": "[encoded data removed]",
      "text/plain": [
       "<Figure size 640x480 with 1 Axes>"
      ]
     },
     "metadata": {},
     "output_type": "display_data"
    }
   ],
   "source": [
    "sns.lineplot(data=errors_df, x=\"Number of Levels\", y=\"MAE\")"
   ]
  },
  {
   "attachments": {},
   "cell_type": "markdown",
   "metadata": {},
   "source": [
    "#### Randomness of Levels Experimentation"
   ]
  },
  {
   "cell_type": "code",
   "execution_count": 22,
   "metadata": {},
   "outputs": [],
   "source": [
    "DIMENSIONS = 512\n",
    "NUM_TRIALS = 100\n",
    "NUM_SAMPLES = 128\n",
    "NUM_LEVELS = 512\n",
    "val_randomness = [0, 0.001, 0.002, 0.004, 0.008, 0.016, 0.032, 0.064, 0.128, 0.256, 0.512]"
   ]
  },
  {
   "cell_type": "code",
   "execution_count": 23,
   "metadata": {},
   "outputs": [],
   "source": [
    "errors = torch.zeros((NUM_TRIALS, len(val_randomness)))\n",
    "for trial in range(NUM_TRIALS):\n",
    "    samples, targets = create_toy_data(NUM_SAMPLES, DIMENSIONS)\n",
    "    for m, n in enumerate(val_randomness):\n",
    "        mae = MeanAbsoluteError()\n",
    "        get_level_hv = torchhd.embeddings.Level(NUM_LEVELS, DIMENSIONS, low=-1, high=1, randomness=n)\n",
    "        levels = get_level_hv(targets)\n",
    "        memory = torchhd.functional.hash_table(samples, levels)\n",
    "        for i in range(NUM_SAMPLES):\n",
    "            s = samples[i]\n",
    "            l = levels[i]\n",
    "            l_p = torchhd.bind(memory, torchhd.inverse(s))\n",
    "            sim = torchhd.cos_similarity(l_p, get_level_hv.weight)\n",
    "            idx = sim.argmax()\n",
    "            p = torchhd.functional.map_range(idx.to(torch.float), 0, NUM_LEVELS - 1, -1, 1)\n",
    "            mae.update(p, targets[i])\n",
    "        errors[trial, m] = mae.compute()"
   ]
  },
  {
   "cell_type": "code",
   "execution_count": 24,
   "metadata": {},
   "outputs": [
    {
     "data": {
      "text/html": [
       "<div>\n",
       "<style scoped>\n",
       "    .dataframe tbody tr th:only-of-type {\n",
       "        vertical-align: middle;\n",
       "    }\n",
       "\n",
       "    .dataframe tbody tr th {\n",
       "        vertical-align: top;\n",
       "    }\n",
       "\n",
       "    .dataframe thead th {\n",
       "        text-align: right;\n",
       "    }\n",
       "</style>\n",
       "<table border=\"1\" class=\"dataframe\">\n",
       "  <thead>\n",
       "    <tr style=\"text-align: right;\">\n",
       "      <th></th>\n",
       "      <th>Randomness</th>\n",
       "      <th>MAE</th>\n",
       "    </tr>\n",
       "  </thead>\n",
       "  <tbody>\n",
       "    <tr>\n",
       "      <th>0</th>\n",
       "      <td>0.000</td>\n",
       "      <td>0.337468</td>\n",
       "    </tr>\n",
       "    <tr>\n",
       "      <th>1</th>\n",
       "      <td>0.000</td>\n",
       "      <td>0.399915</td>\n",
       "    </tr>\n",
       "    <tr>\n",
       "      <th>2</th>\n",
       "      <td>0.000</td>\n",
       "      <td>0.368941</td>\n",
       "    </tr>\n",
       "    <tr>\n",
       "      <th>3</th>\n",
       "      <td>0.000</td>\n",
       "      <td>0.329138</td>\n",
       "    </tr>\n",
       "    <tr>\n",
       "      <th>4</th>\n",
       "      <td>0.000</td>\n",
       "      <td>0.377094</td>\n",
       "    </tr>\n",
       "    <tr>\n",
       "      <th>...</th>\n",
       "      <td>...</td>\n",
       "      <td>...</td>\n",
       "    </tr>\n",
       "    <tr>\n",
       "      <th>1095</th>\n",
       "      <td>0.512</td>\n",
       "      <td>0.227123</td>\n",
       "    </tr>\n",
       "    <tr>\n",
       "      <th>1096</th>\n",
       "      <td>0.512</td>\n",
       "      <td>0.255789</td>\n",
       "    </tr>\n",
       "    <tr>\n",
       "      <th>1097</th>\n",
       "      <td>0.512</td>\n",
       "      <td>0.263291</td>\n",
       "    </tr>\n",
       "    <tr>\n",
       "      <th>1098</th>\n",
       "      <td>0.512</td>\n",
       "      <td>0.242266</td>\n",
       "    </tr>\n",
       "    <tr>\n",
       "      <th>1099</th>\n",
       "      <td>0.512</td>\n",
       "      <td>0.248804</td>\n",
       "    </tr>\n",
       "  </tbody>\n",
       "</table>\n",
       "<p>1100 rows × 2 columns</p>\n",
       "</div>"
      ],
      "text/plain": [
       "      Randomness       MAE\n",
       "0          0.000  0.337468\n",
       "1          0.000  0.399915\n",
       "2          0.000  0.368941\n",
       "3          0.000  0.329138\n",
       "4          0.000  0.377094\n",
       "...          ...       ...\n",
       "1095       0.512  0.227123\n",
       "1096       0.512  0.255789\n",
       "1097       0.512  0.263291\n",
       "1098       0.512  0.242266\n",
       "1099       0.512  0.248804\n",
       "\n",
       "[1100 rows x 2 columns]"
      ]
     },
     "execution_count": 24,
     "metadata": {},
     "output_type": "execute_result"
    }
   ],
   "source": [
    "errors_df = pd.DataFrame(errors.numpy(), columns=val_randomness)\n",
    "errors_df = errors_df.rename_axis(columns=\"Randomness\")\n",
    "errors_df = pd.melt(errors_df)\n",
    "errors_df = errors_df.rename(columns={\"value\": \"MAE\"})\n",
    "errors_df"
   ]
  },
  {
   "cell_type": "code",
   "execution_count": 25,
   "metadata": {},
   "outputs": [
    {
     "data": {
      "text/plain": [
       "<AxesSubplot: xlabel='Randomness', ylabel='MAE'>"
      ]
     },
     "execution_count": 25,
     "metadata": {},
     "output_type": "execute_result"
    },
    {
     "data": {
      "image/png": "[encoded data removed]",
      "text/plain": [
       "<Figure size 640x480 with 1 Axes>"
      ]
     },
     "metadata": {},
     "output_type": "display_data"
    }
   ],
   "source": [
    "sns.lineplot(data=errors_df, x=\"Randomness\", y=\"MAE\")"
   ]
  },
  {
   "attachments": {},
   "cell_type": "markdown",
   "metadata": {},
   "source": [
    "#### Number of Samples with Weighted Sum"
   ]
  },
  {
   "cell_type": "code",
   "execution_count": null,
   "metadata": {},
   "outputs": [],
   "source": [
    "DIMENSIONS = 512\n",
    "NUM_LEVELS = 100\n",
    "NUM_TRIALS = 100\n",
    "num_samples = [1, 2, 4, 8, 16, 32, 64, 128, 256, 512]"
   ]
  },
  {
   "cell_type": "code",
   "execution_count": null,
   "metadata": {},
   "outputs": [],
   "source": [
    "samples, targets = create_toy_data(num_samples[-1], DIMENSIONS)\n",
    "get_level_hv = torchhd.embeddings.Level(NUM_LEVELS, DIMENSIONS, low=-1, high=1)"
   ]
  },
  {
   "cell_type": "code",
   "execution_count": null,
   "metadata": {},
   "outputs": [],
   "source": [
    "errors = torch.zeros((NUM_TRIALS, len(num_samples)))\n",
    "for trial in range(NUM_TRIALS):\n",
    "    samples, targets = create_toy_data(num_samples[-1], DIMENSIONS)\n",
    "    levels = get_level_hv(targets)\n",
    "    for m, n in enumerate(num_samples):\n",
    "        mae = MeanAbsoluteError()\n",
    "        memory = torchhd.functional.hash_table(samples[:n], levels[:n])\n",
    "        for i in range(n):\n",
    "            s = samples[i]\n",
    "            l = levels[i]\n",
    "            l_p = torchhd.bind(memory, torchhd.inverse(s))\n",
    "            sim = torchhd.cos_similarity(l_p, get_level_hv.weight)\n",
    "            idx = sim.argmax()\n",
    "            p = torchhd.functional.map_range(idx.to(torch.float), 0, NUM_LEVELS - 1, -1, 1)\n",
    "            mae.update(p, targets[i])\n",
    "        errors[trial, m] = mae.compute()"
   ]
  },
  {
   "cell_type": "code",
   "execution_count": null,
   "metadata": {},
   "outputs": [],
   "source": [
    "errors_df = pd.DataFrame(errors.numpy(), columns=num_samples)\n",
    "errors_df = errors_df.rename_axis(columns=\"Number of Samples\")\n",
    "errors_df = pd.melt(errors_df)\n",
    "errors_df = errors_df.rename(columns={\"value\": \"MAE\"})\n",
    "errors_df"
   ]
  },
  {
   "cell_type": "code",
   "execution_count": null,
   "metadata": {},
   "outputs": [],
   "source": [
    "sns.lineplot(data=errors_df, x=\"Number of Samples\", y=\"MAE\")"
   ]
  }
 ],
 "metadata": {
  "kernelspec": {
   "display_name": "torch-hd",
   "language": "python",
   "name": "python3"
  },
  "language_info": {
   "codemirror_mode": {
    "name": "ipython",
    "version": 3
   },
   "file_extension": ".py",
   "mimetype": "text/x-python",
   "name": "python",
   "nbconvert_exporter": "python",
   "pygments_lexer": "ipython3",
   "version": "3.8.10"
  },
  "orig_nbformat": 4
 },
 "nbformat": 4,
 "nbformat_minor": 2
}

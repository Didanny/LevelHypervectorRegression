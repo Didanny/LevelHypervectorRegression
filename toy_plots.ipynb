{
 "cells": [
  {
   "cell_type": "code",
   "execution_count": 26,
   "metadata": {},
   "outputs": [],
   "source": [
    "import torch\n",
    "import torchhd\n",
    "from torchmetrics import MeanAbsoluteError\n",
    "import pandas as pd\n",
    "import seaborn as sns"
   ]
  },
  {
   "cell_type": "code",
   "execution_count": 27,
   "metadata": {},
   "outputs": [],
   "source": [
    "samples = torchhd.functional.random_hv(3, 512)\n",
    "levels = torchhd.functional.level_hv(5, 512, randomness=1)\n",
    "assignments = torch.randint(0, 5, (3,))"
   ]
  },
  {
   "cell_type": "code",
   "execution_count": 28,
   "metadata": {},
   "outputs": [
    {
     "data": {
      "text/plain": [
       "MAP([[-1., -1., -1.,  ..., -1.,  1.,  1.],\n",
       "     [-1., -1., -1.,  ..., -1.,  1.,  1.],\n",
       "     [-1., -1., -1.,  ..., -1.,  1.,  1.]])"
      ]
     },
     "execution_count": 28,
     "metadata": {},
     "output_type": "execute_result"
    }
   ],
   "source": [
    "targets = levels[assignments]\n",
    "targets"
   ]
  },
  {
   "cell_type": "code",
   "execution_count": 29,
   "metadata": {},
   "outputs": [
    {
     "data": {
      "text/plain": [
       "MAP([-3.,  1., -1., -1., -1.,  3.,  1., -1.,  1., -1., -1.,  1., -1., -1.,  1.,\n",
       "      1.,  1., -3., -3., -3., -1., -1.,  1., -1.,  1.,  1.,  3., -3.,  1., -1.,\n",
       "      1., -1.,  1.,  3., -1., -3., -1.,  1., -1.,  3.,  1., -1.,  3.,  3.,  1.,\n",
       "     -1., -1.,  3.,  1., -1.,  1.,  1.,  1.,  1.,  1.,  1.,  3., -1.,  1., -1.,\n",
       "      1., -1., -1., -1., -1.,  1.,  1., -1.,  1., -1.,  1.,  3., -3.,  1.,  1.,\n",
       "      1.,  1.,  1.,  3., -1., -1., -1., -1., -1.,  3., -1.,  1., -1., -1.,  1.,\n",
       "      1., -1., -1., -1.,  3., -3.,  1.,  3.,  1., -3., -3.,  1., -3.,  1., -1.,\n",
       "     -1.,  3., -1., -3., -1., -3., -3., -1.,  1.,  1.,  1., -1., -1.,  1.,  1.,\n",
       "      1.,  1.,  1.,  1., -1., -3., -3.,  3., -1., -1.,  3.,  3., -3., -3.,  3.,\n",
       "      1., -1., -1., -1.,  3., -1.,  1., -1., -1., -3.,  1., -1., -3., -3.,  3.,\n",
       "     -1., -1., -1.,  1.,  3., -1., -1., -1., -3.,  1., -1.,  1.,  1., -1.,  1.,\n",
       "      1.,  1., -1.,  1., -1., -1.,  1.,  1., -3.,  1.,  3.,  1.,  1., -3.,  1.,\n",
       "     -1., -1., -1., -1.,  1., -1., -3.,  1., -1.,  1.,  3.,  1., -1.,  1., -1.,\n",
       "     -1.,  1.,  1.,  3., -1.,  3., -3.,  1.,  3.,  1.,  1., -3., -3.,  1.,  3.,\n",
       "      1., -1., -1.,  1.,  1., -1., -1.,  3.,  1.,  1.,  1., -1., -1., -1., -1.,\n",
       "      1.,  1., -1., -3., -1.,  1., -1., -1.,  1., -1.,  3.,  1.,  1.,  3.,  1.,\n",
       "     -1., -3., -3.,  1.,  1., -1.,  1.,  1.,  3., -1.,  1., -1., -3.,  1., -3.,\n",
       "      1.,  1., -1.,  1.,  3., -3.,  3., -1., -3.,  1., -1.,  1.,  1.,  1.,  1.,\n",
       "     -1., -1., -1.,  3., -3.,  1., -1., -1., -1., -1.,  1., -1., -1.,  1., -1.,\n",
       "     -1., -1.,  1., -1.,  1., -1.,  1.,  1., -3., -3., -1., -1., -3., -1.,  1.,\n",
       "      1., -1., -1., -1., -1., -1., -3.,  1.,  1.,  1.,  3.,  3., -3.,  1.,  3.,\n",
       "      1., -1.,  1., -3.,  1.,  1.,  3.,  3.,  1.,  1., -1., -1., -1.,  1., -1.,\n",
       "      1., -1., -1.,  1.,  3., -1., -1., -1.,  1., -1., -1.,  1., -1., -1., -3.,\n",
       "     -1.,  1., -1.,  3., -1., -1., -1., -1.,  3.,  1.,  3.,  1.,  3., -1., -1.,\n",
       "     -1., -3.,  3.,  1.,  3.,  3., -1., -1., -1., -1., -1., -1., -1., -1.,  1.,\n",
       "      1.,  1.,  1.,  1.,  1.,  1., -1.,  1.,  1.,  1., -1.,  1., -1., -1.,  1.,\n",
       "      1., -1.,  1., -1., -1., -1.,  1., -1.,  1.,  1.,  1., -1.,  1.,  1., -1.,\n",
       "     -3.,  1.,  1.,  3., -1.,  1., -1.,  1.,  3.,  1., -1.,  3., -1., -1., -3.,\n",
       "     -1.,  3.,  1., -1., -3., -1., -1., -3.,  3.,  1.,  1.,  1., -1.,  3.,  1.,\n",
       "     -1., -1., -1., -1.,  1., -3.,  1.,  1.,  1.,  3., -3.,  1.,  1., -1., -1.,\n",
       "      1.,  1.,  1., -1., -1., -1., -3.,  3., -1.,  1., -1.,  1., -1.,  1.,  1.,\n",
       "     -3., -1., -3., -1., -1.,  3.,  3., -1., -1., -1.,  1., -3.,  1.,  1., -1.,\n",
       "     -3.,  3., -1.,  1., -1., -1.,  3.,  3.,  1.,  1., -1., -1.,  1., -1., -3.,\n",
       "     -1.,  1.,  3., -1.,  1.,  1., -3.,  1.,  1.,  1., -3.,  1., -1.,  3., -1.,\n",
       "     -1.,  1.])"
      ]
     },
     "execution_count": 29,
     "metadata": {},
     "output_type": "execute_result"
    }
   ],
   "source": [
    "table = torchhd.functional.hash_table(samples, targets)\n",
    "table"
   ]
  },
  {
   "cell_type": "code",
   "execution_count": 30,
   "metadata": {},
   "outputs": [
    {
     "data": {
      "text/plain": [
       "MAP([-0.0392, -0.0069, -0.0069, -0.0829,  0.5230])"
      ]
     },
     "execution_count": 30,
     "metadata": {},
     "output_type": "execute_result"
    }
   ],
   "source": [
    "noisy = torchhd.bind(table, torchhd.inverse(samples[0]))\n",
    "torchhd.cos_similarity(noisy, levels)"
   ]
  },
  {
   "cell_type": "code",
   "execution_count": 31,
   "metadata": {},
   "outputs": [
    {
     "data": {
      "text/plain": [
       "MAP([[-1., -1., -1.,  ..., -1.,  1.,  1.],\n",
       "     [-1., -1., -1.,  ..., -1.,  1.,  1.],\n",
       "     [-1., -1., -1.,  ..., -1.,  1.,  1.]])"
      ]
     },
     "execution_count": 31,
     "metadata": {},
     "output_type": "execute_result"
    }
   ],
   "source": [
    "targets"
   ]
  },
  {
   "cell_type": "code",
   "execution_count": 32,
   "metadata": {},
   "outputs": [
    {
     "data": {
      "text/plain": [
       "tensor([4, 4, 4])"
      ]
     },
     "execution_count": 32,
     "metadata": {},
     "output_type": "execute_result"
    }
   ],
   "source": [
    "assignments"
   ]
  },
  {
   "attachments": {},
   "cell_type": "markdown",
   "metadata": {},
   "source": [
    "#### Creating the Toy Data"
   ]
  },
  {
   "cell_type": "code",
   "execution_count": 33,
   "metadata": {},
   "outputs": [
    {
     "data": {
      "text/plain": [
       "tensor([-0.5025,  0.8125,  0.0655, -0.5851,  0.6031, -0.0912, -0.1590,  0.0227,\n",
       "         0.0510,  0.1064])"
      ]
     },
     "execution_count": 33,
     "metadata": {},
     "output_type": "execute_result"
    }
   ],
   "source": [
    "(torch.rand(10) * 2) - 1"
   ]
  },
  {
   "cell_type": "code",
   "execution_count": 34,
   "metadata": {},
   "outputs": [],
   "source": [
    "def create_toy_data(num_samples, num_dimensions):\n",
    "    samples = torchhd.functional.random_hv(num_samples, num_dimensions)\n",
    "    targets = (torch.rand(num_samples) * 2) - 1\n",
    "    return samples, targets"
   ]
  },
  {
   "attachments": {},
   "cell_type": "markdown",
   "metadata": {},
   "source": [
    "#### Number of Samples Experimentation"
   ]
  },
  {
   "cell_type": "code",
   "execution_count": 35,
   "metadata": {},
   "outputs": [],
   "source": [
    "DIMENSIONS = 512\n",
    "NUM_LEVELS = 100\n",
    "NUM_TRIALS = 100\n",
    "num_samples = [1, 2, 4, 8, 16, 32, 64, 128, 256, 512]"
   ]
  },
  {
   "cell_type": "code",
   "execution_count": 36,
   "metadata": {},
   "outputs": [],
   "source": [
    "samples, targets = create_toy_data(num_samples[-1], DIMENSIONS)"
   ]
  },
  {
   "cell_type": "code",
   "execution_count": 37,
   "metadata": {},
   "outputs": [],
   "source": [
    "get_level_hv = torchhd.embeddings.Level(NUM_LEVELS, DIMENSIONS, low=-1, high=1)"
   ]
  },
  {
   "cell_type": "code",
   "execution_count": 38,
   "metadata": {},
   "outputs": [
    {
     "data": {
      "text/plain": [
       "tensor([[0., 0., 0., 0., 0., 0., 0., 0., 0., 0.],\n",
       "        [0., 0., 5., 0., 0., 0., 0., 0., 0., 0.],\n",
       "        [0., 0., 0., 0., 0., 0., 0., 0., 0., 0.]])"
      ]
     },
     "execution_count": 38,
     "metadata": {},
     "output_type": "execute_result"
    }
   ],
   "source": [
    "t = torch.zeros((3, 10))\n",
    "t[1, 2] = 5\n",
    "t"
   ]
  },
  {
   "cell_type": "code",
   "execution_count": 39,
   "metadata": {},
   "outputs": [],
   "source": [
    "errors = torch.zeros((NUM_TRIALS, len(num_samples)))\n",
    "for trial in range(NUM_TRIALS):\n",
    "    samples, targets = create_toy_data(num_samples[-1], DIMENSIONS)\n",
    "    levels = get_level_hv(targets)\n",
    "    for m, n in enumerate(num_samples):\n",
    "        mae = MeanAbsoluteError()\n",
    "        memory = torchhd.functional.hash_table(samples[:n], levels[:n])\n",
    "        for i in range(n):\n",
    "            s = samples[i]\n",
    "            l = levels[i]\n",
    "            l_p = torchhd.bind(memory, torchhd.inverse(s))\n",
    "            sim = torchhd.cos_similarity(l_p, get_level_hv.weight)\n",
    "            idx = sim.argmax()\n",
    "            p = torchhd.functional.map_range(idx.to(torch.float), 0, NUM_LEVELS - 1, -1, 1)\n",
    "            mae.update(p, targets[i])\n",
    "        errors[trial, m] = mae.compute()            "
   ]
  },
  {
   "cell_type": "code",
   "execution_count": 40,
   "metadata": {},
   "outputs": [
    {
     "data": {
      "text/html": [
       "<div>\n",
       "<style scoped>\n",
       "    .dataframe tbody tr th:only-of-type {\n",
       "        vertical-align: middle;\n",
       "    }\n",
       "\n",
       "    .dataframe tbody tr th {\n",
       "        vertical-align: top;\n",
       "    }\n",
       "\n",
       "    .dataframe thead th {\n",
       "        text-align: right;\n",
       "    }\n",
       "</style>\n",
       "<table border=\"1\" class=\"dataframe\">\n",
       "  <thead>\n",
       "    <tr style=\"text-align: right;\">\n",
       "      <th></th>\n",
       "      <th>Number of Samples</th>\n",
       "      <th>MAE</th>\n",
       "    </tr>\n",
       "  </thead>\n",
       "  <tbody>\n",
       "    <tr>\n",
       "      <th>0</th>\n",
       "      <td>1</td>\n",
       "      <td>0.000070</td>\n",
       "    </tr>\n",
       "    <tr>\n",
       "      <th>1</th>\n",
       "      <td>1</td>\n",
       "      <td>0.006944</td>\n",
       "    </tr>\n",
       "    <tr>\n",
       "      <th>2</th>\n",
       "      <td>1</td>\n",
       "      <td>0.007321</td>\n",
       "    </tr>\n",
       "    <tr>\n",
       "      <th>3</th>\n",
       "      <td>1</td>\n",
       "      <td>0.005738</td>\n",
       "    </tr>\n",
       "    <tr>\n",
       "      <th>4</th>\n",
       "      <td>1</td>\n",
       "      <td>0.000397</td>\n",
       "    </tr>\n",
       "    <tr>\n",
       "      <th>...</th>\n",
       "      <td>...</td>\n",
       "      <td>...</td>\n",
       "    </tr>\n",
       "    <tr>\n",
       "      <th>995</th>\n",
       "      <td>512</td>\n",
       "      <td>0.494956</td>\n",
       "    </tr>\n",
       "    <tr>\n",
       "      <th>996</th>\n",
       "      <td>512</td>\n",
       "      <td>0.512819</td>\n",
       "    </tr>\n",
       "    <tr>\n",
       "      <th>997</th>\n",
       "      <td>512</td>\n",
       "      <td>0.530412</td>\n",
       "    </tr>\n",
       "    <tr>\n",
       "      <th>998</th>\n",
       "      <td>512</td>\n",
       "      <td>0.547365</td>\n",
       "    </tr>\n",
       "    <tr>\n",
       "      <th>999</th>\n",
       "      <td>512</td>\n",
       "      <td>0.514517</td>\n",
       "    </tr>\n",
       "  </tbody>\n",
       "</table>\n",
       "<p>1000 rows × 2 columns</p>\n",
       "</div>"
      ],
      "text/plain": [
       "     Number of Samples       MAE\n",
       "0                    1  0.000070\n",
       "1                    1  0.006944\n",
       "2                    1  0.007321\n",
       "3                    1  0.005738\n",
       "4                    1  0.000397\n",
       "..                 ...       ...\n",
       "995                512  0.494956\n",
       "996                512  0.512819\n",
       "997                512  0.530412\n",
       "998                512  0.547365\n",
       "999                512  0.514517\n",
       "\n",
       "[1000 rows x 2 columns]"
      ]
     },
     "execution_count": 40,
     "metadata": {},
     "output_type": "execute_result"
    }
   ],
   "source": [
    "errors_df = pd.DataFrame(errors.numpy(), columns=num_samples)\n",
    "errors_df = errors_df.rename_axis(columns=\"Number of Samples\")\n",
    "errors_df = pd.melt(errors_df)\n",
    "errors_df = errors_df.rename(columns={\"value\": \"MAE\"})\n",
    "errors_df"
   ]
  },
  {
   "cell_type": "code",
   "execution_count": 41,
   "metadata": {},
   "outputs": [
    {
     "data": {
      "text/plain": [
       "<AxesSubplot: xlabel='Number of Samples', ylabel='MAE'>"
      ]
     },
     "execution_count": 41,
     "metadata": {},
     "output_type": "execute_result"
    },
    {
     "data": {
      "image/png": "[encoded data removed]",
      "text/plain": [
       "<Figure size 640x480 with 1 Axes>"
      ]
     },
     "metadata": {},
     "output_type": "display_data"
    }
   ],
   "source": [
    "sns.lineplot(data=errors_df, x=\"Number of Samples\", y=\"MAE\")"
   ]
  },
  {
   "attachments": {},
   "cell_type": "markdown",
   "metadata": {},
   "source": [
    "#### Number of Levels Experimentation"
   ]
  },
  {
   "cell_type": "code",
   "execution_count": 42,
   "metadata": {},
   "outputs": [],
   "source": [
    "DIMENSIONS = 512\n",
    "NUM_TRIALS = 100\n",
    "NUM_SAMPLES = 128\n",
    "num_levels = [2, 4, 8, 16, 32, 64, 128, 256, 512, 1024]"
   ]
  },
  {
   "cell_type": "code",
   "execution_count": 43,
   "metadata": {},
   "outputs": [],
   "source": [
    "errors = torch.zeros((NUM_TRIALS, len(num_levels)))\n",
    "for trial in range(NUM_TRIALS):\n",
    "    samples, targets = create_toy_data(NUM_SAMPLES, DIMENSIONS)\n",
    "    for m, n in enumerate(num_levels):\n",
    "        mae = MeanAbsoluteError()\n",
    "        get_level_hv = torchhd.embeddings.Level(n, DIMENSIONS, low=-1, high=1)\n",
    "        levels = get_level_hv(targets)\n",
    "        memory = torchhd.functional.hash_table(samples, levels)\n",
    "        for i in range(NUM_SAMPLES):\n",
    "            s = samples[i]\n",
    "            l = levels[i]\n",
    "            l_p = torchhd.bind(memory, torchhd.inverse(s))\n",
    "            sim = torchhd.cos_similarity(l_p, get_level_hv.weight)\n",
    "            idx = sim.argmax()\n",
    "            p = torchhd.functional.map_range(idx.to(torch.float), 0, n - 1, -1, 1)\n",
    "            mae.update(p, targets[i])\n",
    "        errors[trial, m] = mae.compute()"
   ]
  },
  {
   "cell_type": "code",
   "execution_count": 44,
   "metadata": {},
   "outputs": [
    {
     "data": {
      "text/html": [
       "<div>\n",
       "<style scoped>\n",
       "    .dataframe tbody tr th:only-of-type {\n",
       "        vertical-align: middle;\n",
       "    }\n",
       "\n",
       "    .dataframe tbody tr th {\n",
       "        vertical-align: top;\n",
       "    }\n",
       "\n",
       "    .dataframe thead th {\n",
       "        text-align: right;\n",
       "    }\n",
       "</style>\n",
       "<table border=\"1\" class=\"dataframe\">\n",
       "  <thead>\n",
       "    <tr style=\"text-align: right;\">\n",
       "      <th></th>\n",
       "      <th>Number of Levels</th>\n",
       "      <th>MAE</th>\n",
       "    </tr>\n",
       "  </thead>\n",
       "  <tbody>\n",
       "    <tr>\n",
       "      <th>0</th>\n",
       "      <td>2</td>\n",
       "      <td>0.569257</td>\n",
       "    </tr>\n",
       "    <tr>\n",
       "      <th>1</th>\n",
       "      <td>2</td>\n",
       "      <td>0.618778</td>\n",
       "    </tr>\n",
       "    <tr>\n",
       "      <th>2</th>\n",
       "      <td>2</td>\n",
       "      <td>0.581566</td>\n",
       "    </tr>\n",
       "    <tr>\n",
       "      <th>3</th>\n",
       "      <td>2</td>\n",
       "      <td>0.593432</td>\n",
       "    </tr>\n",
       "    <tr>\n",
       "      <th>4</th>\n",
       "      <td>2</td>\n",
       "      <td>0.573120</td>\n",
       "    </tr>\n",
       "    <tr>\n",
       "      <th>...</th>\n",
       "      <td>...</td>\n",
       "      <td>...</td>\n",
       "    </tr>\n",
       "    <tr>\n",
       "      <th>995</th>\n",
       "      <td>1024</td>\n",
       "      <td>0.330009</td>\n",
       "    </tr>\n",
       "    <tr>\n",
       "      <th>996</th>\n",
       "      <td>1024</td>\n",
       "      <td>0.392105</td>\n",
       "    </tr>\n",
       "    <tr>\n",
       "      <th>997</th>\n",
       "      <td>1024</td>\n",
       "      <td>0.368185</td>\n",
       "    </tr>\n",
       "    <tr>\n",
       "      <th>998</th>\n",
       "      <td>1024</td>\n",
       "      <td>0.330484</td>\n",
       "    </tr>\n",
       "    <tr>\n",
       "      <th>999</th>\n",
       "      <td>1024</td>\n",
       "      <td>0.339767</td>\n",
       "    </tr>\n",
       "  </tbody>\n",
       "</table>\n",
       "<p>1000 rows × 2 columns</p>\n",
       "</div>"
      ],
      "text/plain": [
       "     Number of Levels       MAE\n",
       "0                   2  0.569257\n",
       "1                   2  0.618778\n",
       "2                   2  0.581566\n",
       "3                   2  0.593432\n",
       "4                   2  0.573120\n",
       "..                ...       ...\n",
       "995              1024  0.330009\n",
       "996              1024  0.392105\n",
       "997              1024  0.368185\n",
       "998              1024  0.330484\n",
       "999              1024  0.339767\n",
       "\n",
       "[1000 rows x 2 columns]"
      ]
     },
     "execution_count": 44,
     "metadata": {},
     "output_type": "execute_result"
    }
   ],
   "source": [
    "errors_df = pd.DataFrame(errors.numpy(), columns=num_levels)\n",
    "errors_df = errors_df.rename_axis(columns=\"Number of Levels\")\n",
    "errors_df = pd.melt(errors_df)\n",
    "errors_df = errors_df.rename(columns={\"value\": \"MAE\"})\n",
    "errors_df"
   ]
  },
  {
   "cell_type": "code",
   "execution_count": 45,
   "metadata": {},
   "outputs": [
    {
     "data": {
      "text/plain": [
       "<AxesSubplot: xlabel='Number of Levels', ylabel='MAE'>"
      ]
     },
     "execution_count": 45,
     "metadata": {},
     "output_type": "execute_result"
    },
    {
     "data": {
      "image/png": "[encoded data removed]",
      "text/plain": [
       "<Figure size 640x480 with 1 Axes>"
      ]
     },
     "metadata": {},
     "output_type": "display_data"
    }
   ],
   "source": [
    "sns.lineplot(data=errors_df, x=\"Number of Levels\", y=\"MAE\")"
   ]
  },
  {
   "attachments": {},
   "cell_type": "markdown",
   "metadata": {},
   "source": [
    "#### Randomness of Levels Experimentation"
   ]
  },
  {
   "cell_type": "code",
   "execution_count": 46,
   "metadata": {},
   "outputs": [],
   "source": [
    "DIMENSIONS = 512\n",
    "NUM_TRIALS = 100\n",
    "NUM_SAMPLES = 128\n",
    "NUM_LEVELS = 512\n",
    "val_randomness = [0, 0.001, 0.002, 0.004, 0.008, 0.016, 0.032, 0.064, 0.128, 0.256, 0.512]"
   ]
  },
  {
   "cell_type": "code",
   "execution_count": 47,
   "metadata": {},
   "outputs": [],
   "source": [
    "errors = torch.zeros((NUM_TRIALS, len(val_randomness)))\n",
    "for trial in range(NUM_TRIALS):\n",
    "    samples, targets = create_toy_data(NUM_SAMPLES, DIMENSIONS)\n",
    "    for m, n in enumerate(val_randomness):\n",
    "        mae = MeanAbsoluteError()\n",
    "        get_level_hv = torchhd.embeddings.Level(NUM_LEVELS, DIMENSIONS, low=-1, high=1, randomness=n)\n",
    "        levels = get_level_hv(targets)\n",
    "        memory = torchhd.functional.hash_table(samples, levels)\n",
    "        for i in range(NUM_SAMPLES):\n",
    "            s = samples[i]\n",
    "            l = levels[i]\n",
    "            l_p = torchhd.bind(memory, torchhd.inverse(s))\n",
    "            sim = torchhd.cos_similarity(l_p, get_level_hv.weight)\n",
    "            idx = sim.argmax()\n",
    "            p = torchhd.functional.map_range(idx.to(torch.float), 0, NUM_LEVELS - 1, -1, 1)\n",
    "            mae.update(p, targets[i])\n",
    "        errors[trial, m] = mae.compute()"
   ]
  },
  {
   "cell_type": "code",
   "execution_count": 48,
   "metadata": {},
   "outputs": [
    {
     "data": {
      "text/html": [
       "<div>\n",
       "<style scoped>\n",
       "    .dataframe tbody tr th:only-of-type {\n",
       "        vertical-align: middle;\n",
       "    }\n",
       "\n",
       "    .dataframe tbody tr th {\n",
       "        vertical-align: top;\n",
       "    }\n",
       "\n",
       "    .dataframe thead th {\n",
       "        text-align: right;\n",
       "    }\n",
       "</style>\n",
       "<table border=\"1\" class=\"dataframe\">\n",
       "  <thead>\n",
       "    <tr style=\"text-align: right;\">\n",
       "      <th></th>\n",
       "      <th>Randomness</th>\n",
       "      <th>MAE</th>\n",
       "    </tr>\n",
       "  </thead>\n",
       "  <tbody>\n",
       "    <tr>\n",
       "      <th>0</th>\n",
       "      <td>0.000</td>\n",
       "      <td>0.364341</td>\n",
       "    </tr>\n",
       "    <tr>\n",
       "      <th>1</th>\n",
       "      <td>0.000</td>\n",
       "      <td>0.375551</td>\n",
       "    </tr>\n",
       "    <tr>\n",
       "      <th>2</th>\n",
       "      <td>0.000</td>\n",
       "      <td>0.346825</td>\n",
       "    </tr>\n",
       "    <tr>\n",
       "      <th>3</th>\n",
       "      <td>0.000</td>\n",
       "      <td>0.371741</td>\n",
       "    </tr>\n",
       "    <tr>\n",
       "      <th>4</th>\n",
       "      <td>0.000</td>\n",
       "      <td>0.414593</td>\n",
       "    </tr>\n",
       "    <tr>\n",
       "      <th>...</th>\n",
       "      <td>...</td>\n",
       "      <td>...</td>\n",
       "    </tr>\n",
       "    <tr>\n",
       "      <th>1095</th>\n",
       "      <td>0.512</td>\n",
       "      <td>0.335214</td>\n",
       "    </tr>\n",
       "    <tr>\n",
       "      <th>1096</th>\n",
       "      <td>0.512</td>\n",
       "      <td>0.286860</td>\n",
       "    </tr>\n",
       "    <tr>\n",
       "      <th>1097</th>\n",
       "      <td>0.512</td>\n",
       "      <td>0.289666</td>\n",
       "    </tr>\n",
       "    <tr>\n",
       "      <th>1098</th>\n",
       "      <td>0.512</td>\n",
       "      <td>0.296621</td>\n",
       "    </tr>\n",
       "    <tr>\n",
       "      <th>1099</th>\n",
       "      <td>0.512</td>\n",
       "      <td>0.272288</td>\n",
       "    </tr>\n",
       "  </tbody>\n",
       "</table>\n",
       "<p>1100 rows × 2 columns</p>\n",
       "</div>"
      ],
      "text/plain": [
       "      Randomness       MAE\n",
       "0          0.000  0.364341\n",
       "1          0.000  0.375551\n",
       "2          0.000  0.346825\n",
       "3          0.000  0.371741\n",
       "4          0.000  0.414593\n",
       "...          ...       ...\n",
       "1095       0.512  0.335214\n",
       "1096       0.512  0.286860\n",
       "1097       0.512  0.289666\n",
       "1098       0.512  0.296621\n",
       "1099       0.512  0.272288\n",
       "\n",
       "[1100 rows x 2 columns]"
      ]
     },
     "execution_count": 48,
     "metadata": {},
     "output_type": "execute_result"
    }
   ],
   "source": [
    "errors_df = pd.DataFrame(errors.numpy(), columns=val_randomness)\n",
    "errors_df = errors_df.rename_axis(columns=\"Randomness\")\n",
    "errors_df = pd.melt(errors_df)\n",
    "errors_df = errors_df.rename(columns={\"value\": \"MAE\"})\n",
    "errors_df"
   ]
  },
  {
   "cell_type": "code",
   "execution_count": 49,
   "metadata": {},
   "outputs": [
    {
     "data": {
      "text/plain": [
       "<AxesSubplot: xlabel='Randomness', ylabel='MAE'>"
      ]
     },
     "execution_count": 49,
     "metadata": {},
     "output_type": "execute_result"
    },
    {
     "data": {
      "image/png": "[encoded data removed]",
      "text/plain": [
       "<Figure size 640x480 with 1 Axes>"
      ]
     },
     "metadata": {},
     "output_type": "display_data"
    }
   ],
   "source": [
    "sns.lineplot(data=errors_df, x=\"Randomness\", y=\"MAE\")"
   ]
  },
  {
   "attachments": {},
   "cell_type": "markdown",
   "metadata": {},
   "source": [
    "#### Number of Samples with Weighted Sum"
   ]
  },
  {
   "cell_type": "code",
   "execution_count": 50,
   "metadata": {},
   "outputs": [],
   "source": [
    "DIMENSIONS = 512\n",
    "NUM_LEVELS = 100\n",
    "NUM_TRIALS = 100\n",
    "num_samples = [1, 2, 4, 8, 16, 32, 64, 128, 256, 512]"
   ]
  },
  {
   "cell_type": "code",
   "execution_count": 51,
   "metadata": {},
   "outputs": [],
   "source": [
    "samples, targets = create_toy_data(num_samples[-1], DIMENSIONS)\n",
    "get_level_hv = torchhd.embeddings.Level(NUM_LEVELS, DIMENSIONS, low=-1, high=1)"
   ]
  },
  {
   "cell_type": "code",
   "execution_count": 52,
   "metadata": {},
   "outputs": [],
   "source": [
    "errors = torch.zeros((NUM_TRIALS, len(num_samples)))\n",
    "for trial in range(NUM_TRIALS):\n",
    "    samples, targets = create_toy_data(num_samples[-1], DIMENSIONS)\n",
    "    levels = get_level_hv(targets)\n",
    "    for m, n in enumerate(num_samples):\n",
    "        mae = MeanAbsoluteError()\n",
    "        memory = torchhd.functional.hash_table(samples[:n], levels[:n])\n",
    "        for i in range(n):\n",
    "            s = samples[i]\n",
    "            l = levels[i]\n",
    "            l_p = torchhd.bind(memory, torchhd.inverse(s))\n",
    "            sim = torchhd.cos_similarity(l_p, get_level_hv.weight)\n",
    "            idx = sim.argmax()\n",
    "            p = torchhd.functional.map_range(idx.to(torch.float), 0, NUM_LEVELS - 1, -1, 1)\n",
    "            mae.update(p, targets[i])\n",
    "        errors[trial, m] = mae.compute()"
   ]
  },
  {
   "cell_type": "code",
   "execution_count": 53,
   "metadata": {},
   "outputs": [
    {
     "data": {
      "text/html": [
       "<div>\n",
       "<style scoped>\n",
       "    .dataframe tbody tr th:only-of-type {\n",
       "        vertical-align: middle;\n",
       "    }\n",
       "\n",
       "    .dataframe tbody tr th {\n",
       "        vertical-align: top;\n",
       "    }\n",
       "\n",
       "    .dataframe thead th {\n",
       "        text-align: right;\n",
       "    }\n",
       "</style>\n",
       "<table border=\"1\" class=\"dataframe\">\n",
       "  <thead>\n",
       "    <tr style=\"text-align: right;\">\n",
       "      <th></th>\n",
       "      <th>Number of Samples</th>\n",
       "      <th>MAE</th>\n",
       "    </tr>\n",
       "  </thead>\n",
       "  <tbody>\n",
       "    <tr>\n",
       "      <th>0</th>\n",
       "      <td>1</td>\n",
       "      <td>0.006878</td>\n",
       "    </tr>\n",
       "    <tr>\n",
       "      <th>1</th>\n",
       "      <td>1</td>\n",
       "      <td>0.007548</td>\n",
       "    </tr>\n",
       "    <tr>\n",
       "      <th>2</th>\n",
       "      <td>1</td>\n",
       "      <td>0.005066</td>\n",
       "    </tr>\n",
       "    <tr>\n",
       "      <th>3</th>\n",
       "      <td>1</td>\n",
       "      <td>0.005875</td>\n",
       "    </tr>\n",
       "    <tr>\n",
       "      <th>4</th>\n",
       "      <td>1</td>\n",
       "      <td>0.007017</td>\n",
       "    </tr>\n",
       "    <tr>\n",
       "      <th>...</th>\n",
       "      <td>...</td>\n",
       "      <td>...</td>\n",
       "    </tr>\n",
       "    <tr>\n",
       "      <th>995</th>\n",
       "      <td>512</td>\n",
       "      <td>0.523037</td>\n",
       "    </tr>\n",
       "    <tr>\n",
       "      <th>996</th>\n",
       "      <td>512</td>\n",
       "      <td>0.538586</td>\n",
       "    </tr>\n",
       "    <tr>\n",
       "      <th>997</th>\n",
       "      <td>512</td>\n",
       "      <td>0.513815</td>\n",
       "    </tr>\n",
       "    <tr>\n",
       "      <th>998</th>\n",
       "      <td>512</td>\n",
       "      <td>0.524422</td>\n",
       "    </tr>\n",
       "    <tr>\n",
       "      <th>999</th>\n",
       "      <td>512</td>\n",
       "      <td>0.540663</td>\n",
       "    </tr>\n",
       "  </tbody>\n",
       "</table>\n",
       "<p>1000 rows × 2 columns</p>\n",
       "</div>"
      ],
      "text/plain": [
       "     Number of Samples       MAE\n",
       "0                    1  0.006878\n",
       "1                    1  0.007548\n",
       "2                    1  0.005066\n",
       "3                    1  0.005875\n",
       "4                    1  0.007017\n",
       "..                 ...       ...\n",
       "995                512  0.523037\n",
       "996                512  0.538586\n",
       "997                512  0.513815\n",
       "998                512  0.524422\n",
       "999                512  0.540663\n",
       "\n",
       "[1000 rows x 2 columns]"
      ]
     },
     "execution_count": 53,
     "metadata": {},
     "output_type": "execute_result"
    }
   ],
   "source": [
    "errors_df = pd.DataFrame(errors.numpy(), columns=num_samples)\n",
    "errors_df = errors_df.rename_axis(columns=\"Number of Samples\")\n",
    "errors_df = pd.melt(errors_df)\n",
    "errors_df = errors_df.rename(columns={\"value\": \"MAE\"})\n",
    "errors_df"
   ]
  },
  {
   "cell_type": "code",
   "execution_count": 54,
   "metadata": {},
   "outputs": [
    {
     "data": {
      "text/plain": [
       "<AxesSubplot: xlabel='Number of Samples', ylabel='MAE'>"
      ]
     },
     "execution_count": 54,
     "metadata": {},
     "output_type": "execute_result"
    },
    {
     "data": {
      "image/png": "[encoded data removed]",
      "text/plain": [
       "<Figure size 640x480 with 1 Axes>"
      ]
     },
     "metadata": {},
     "output_type": "display_data"
    }
   ],
   "source": [
    "sns.lineplot(data=errors_df, x=\"Number of Samples\", y=\"MAE\")"
   ]
  }
 ],
 "metadata": {
  "kernelspec": {
   "display_name": "torch-hd",
   "language": "python",
   "name": "python3"
  },
  "language_info": {
   "codemirror_mode": {
    "name": "ipython",
    "version": 3
   },
   "file_extension": ".py",
   "mimetype": "text/x-python",
   "name": "python",
   "nbconvert_exporter": "python",
   "pygments_lexer": "ipython3",
   "version": "3.8.10"
  },
  "orig_nbformat": 4
 },
 "nbformat": 4,
 "nbformat_minor": 2
}

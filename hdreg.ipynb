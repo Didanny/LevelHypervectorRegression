{
 "cells": [
  {
   "cell_type": "code",
   "execution_count": 1,
   "metadata": {},
   "outputs": [
    {
     "name": "stderr",
     "output_type": "stream",
     "text": [
      "/Users/mikeheddes/miniconda3/envs/torch/lib/python3.10/site-packages/tqdm/auto.py:21: TqdmWarning: IProgress not found. Please update jupyter and ipywidgets. See https://ipywidgets.readthedocs.io/en/stable/user_install.html\n",
      "  from .autonotebook import tqdm as notebook_tqdm\n"
     ]
    }
   ],
   "source": [
    "import torchhd\n",
    "from torchhd.datasets import AirfoilSelfNoise\n",
    "from torchhd import embeddings\n",
    "import level"
   ]
  },
  {
   "cell_type": "code",
   "execution_count": 2,
   "metadata": {},
   "outputs": [],
   "source": [
    "import torch\n",
    "import torch.nn as nn\n",
    "import torch.nn.functional as F\n",
    "from torch.utils.data import Dataset\n",
    "from torch.utils.data import DataLoader\n",
    "\n",
    "import torchmetrics\n",
    "from tqdm import tqdm"
   ]
  },
  {
   "cell_type": "code",
   "execution_count": 3,
   "metadata": {},
   "outputs": [],
   "source": [
    "DIMENSIONS = 10_000"
   ]
  },
  {
   "cell_type": "code",
   "execution_count": 4,
   "metadata": {},
   "outputs": [],
   "source": [
    "class RegHD(nn.Module):\n",
    "    def __init__(self, num_features, requires_grad=False) -> None:\n",
    "        super(RegHD, self).__init__()\n",
    "        \n",
    "        self.num_features = num_features\n",
    "        weight = torch.zeros(1, num_features)\n",
    "        self.weight = nn.Parameter(weight, requires_grad)\n",
    "    \n",
    "    @torch.no_grad()\n",
    "    def model_update(self, input, target, lr=0.00001):\n",
    "        error = target - F.linear(input, self.weight)\n",
    "        update = torch.sum(lr * error * input, dim=0)\n",
    "        self.weight.add_(update)\n",
    "        \n",
    "    def forward(self, input):\n",
    "        return F.linear(input, self.weight)"
   ]
  },
  {
   "cell_type": "code",
   "execution_count": 111,
   "metadata": {},
   "outputs": [],
   "source": [
    "class LevelHV(nn.Module):\n",
    "    def __init__(self, num_features, num_levels=100, randomness=0.0, requires_grad=False) -> None:\n",
    "        super(LevelHV, self).__init__()\n",
    "\n",
    "        self.num_levels = num_levels\n",
    "        self.num_features = num_features\n",
    "\n",
    "        self.levels = embeddings.Level(self.num_levels, num_features, low=0, high=1, randomness=randomness)\n",
    "        self.memory = self.levels.weight\n",
    "\n",
    "        weight = torch.zeros(1, num_features)\n",
    "        self.weight = nn.Parameter(weight, requires_grad)\n",
    "    \n",
    "    @torch.no_grad()\n",
    "    def model_update(self, input, target):\n",
    "        target_vec = self.levels(target)\n",
    "        input_target_pairs = torchhd.hash_table(input, target_vec)\n",
    "        self.weight.add_(input_target_pairs)\n",
    "        \n",
    "    def forward(self, input):\n",
    "        target_vec = torchhd.bind(self.weight, torchhd.inverse(input))\n",
    "        memory_sim = torchhd.dot_similarity(target_vec, self.memory)\n",
    "        level_idx = torch.argmax(memory_sim, dim=-1)\n",
    "        return (level_idx / (self.num_levels - 1)) * (self.levels.high - self.levels.low) + self.levels.low"
   ]
  },
  {
   "cell_type": "code",
   "execution_count": 6,
   "metadata": {},
   "outputs": [
    {
     "name": "stdout",
     "output_type": "stream",
     "text": [
      "Files already downloaded and verified\n"
     ]
    }
   ],
   "source": [
    "dataset = AirfoilSelfNoise('data', download=True)\n",
    "\n",
    "DATA_STD = dataset.data.std(0)\n",
    "DATA_MEAN = dataset.data.mean(0)\n",
    "TARGET_STD = dataset.targets.std(0)\n",
    "TARGET_MEAN = dataset.targets.mean(0)\n",
    "DATA_MIN = dataset.data.min(0).values\n",
    "DATA_MAX = dataset.data.max(0).values\n",
    "TARGET_MIN = dataset.targets.min(0).values\n",
    "TARGET_MAX = dataset.targets.max(0).values"
   ]
  },
  {
   "cell_type": "code",
   "execution_count": 7,
   "metadata": {},
   "outputs": [],
   "source": [
    "class NormalTransform:\n",
    "    def __init__(self, mean, std):\n",
    "        self.mean = mean\n",
    "        self.std = std\n",
    "\n",
    "    def __call__(self, input):\n",
    "        return (input - self.mean) / self.std\n",
    "\n",
    "class MinMaxTransform:\n",
    "    def __init__(self, min, max):\n",
    "        self.min = min\n",
    "        self.max = max\n",
    "\n",
    "    def __call__(self, input):\n",
    "        return (input - self.min) / (self.max - self.min)\n",
    "\n",
    "train_size = int(0.7 * len(dataset))\n",
    "test_size = len(dataset) - train_size\n",
    "train_data, test_data = torch.utils.data.random_split(dataset, [train_size, test_size])\n",
    "\n",
    "train_dataloader = DataLoader(train_data, batch_size=12, shuffle=True)\n",
    "test_dataloader = DataLoader(test_data, batch_size=12)"
   ]
  },
  {
   "cell_type": "code",
   "execution_count": 8,
   "metadata": {},
   "outputs": [
    {
     "name": "stdout",
     "output_type": "stream",
     "text": [
      "tensor([[6.3000e+02, 0.0000e+00, 2.2860e-01, 3.1700e+01, 2.7238e-03],\n",
      "        [2.5000e+02, 1.5400e+01, 5.0800e-02, 3.1700e+01, 2.8985e-02],\n",
      "        [1.2500e+03, 6.7000e+00, 1.0160e-01, 5.5500e+01, 5.2139e-03],\n",
      "        [1.6000e+03, 1.9700e+01, 5.0800e-02, 7.1300e+01, 3.4118e-02],\n",
      "        [1.0000e+03, 1.7400e+01, 2.5400e-02, 5.5500e+01, 1.6571e-02],\n",
      "        [1.0000e+03, 1.7400e+01, 2.5400e-02, 3.9600e+01, 1.7221e-02],\n",
      "        [5.0000e+03, 4.0000e+00, 3.0480e-01, 3.9600e+01, 5.7964e-03],\n",
      "        [1.6000e+03, 0.0000e+00, 2.2860e-01, 3.9600e+01, 2.5351e-03],\n",
      "        [4.0000e+03, 4.0000e+00, 2.2860e-01, 7.1300e+01, 4.0060e-03],\n",
      "        [6.3000e+02, 2.0000e+00, 2.2860e-01, 5.5500e+01, 3.1352e-03],\n",
      "        [6.3000e+02, 2.2200e+01, 2.5400e-02, 7.1300e+01, 2.1418e-02],\n",
      "        [5.0000e+03, 4.0000e+00, 2.2860e-01, 3.1700e+01, 5.0907e-03]])\n",
      "tensor([129.4650, 121.2250, 136.8830, 120.5750, 126.0010, 138.2740, 113.7330,\n",
      "        127.0950, 121.7280, 126.8420, 120.6570, 115.9690])\n"
     ]
    }
   ],
   "source": [
    "item, label = next(iter(train_dataloader))\n",
    "print(item)\n",
    "print(label)"
   ]
  },
  {
   "cell_type": "code",
   "execution_count": 34,
   "metadata": {},
   "outputs": [],
   "source": [
    "encoder = embeddings.Projection(5, DIMENSIONS)"
   ]
  },
  {
   "cell_type": "code",
   "execution_count": 98,
   "metadata": {},
   "outputs": [],
   "source": [
    "model = RegHD(DIMENSIONS)\n",
    "\n",
    "dataset.transform = NormalTransform(DATA_MEAN, DATA_STD)\n",
    "# dataset.transform = MinMaxTransform(DATA_MIN, DATA_MAX)\n",
    "dataset.target_transform = NormalTransform(TARGET_MEAN, TARGET_STD)"
   ]
  },
  {
   "cell_type": "code",
   "execution_count": 99,
   "metadata": {},
   "outputs": [
    {
     "name": "stderr",
     "output_type": "stream",
     "text": [
      "Epoch 1: 100%|██████████| 88/88 [00:00<00:00, 2426.33it/s]\n"
     ]
    }
   ],
   "source": [
    "with torch.no_grad():\n",
    "    for epoch in range(1):\n",
    "        for samples, labels in tqdm(train_dataloader, desc=f\"Epoch {epoch + 1}\"):\n",
    "            samples_hv = encoder(samples).sign()\n",
    "            model.model_update(samples_hv, labels.unsqueeze(-1))"
   ]
  },
  {
   "cell_type": "code",
   "execution_count": 100,
   "metadata": {},
   "outputs": [
    {
     "name": "stderr",
     "output_type": "stream",
     "text": [
      "Testing: 100%|██████████| 38/38 [00:00<00:00, 2664.79it/s]"
     ]
    },
    {
     "name": "stdout",
     "output_type": "stream",
     "text": [
      "Testing mean squared error of 19.513\n"
     ]
    },
    {
     "name": "stderr",
     "output_type": "stream",
     "text": [
      "\n"
     ]
    }
   ],
   "source": [
    "mse = torchmetrics.MeanSquaredError()\n",
    "\n",
    "with torch.no_grad():\n",
    "    for samples, labels in tqdm(test_dataloader, desc=\"Testing\"):\n",
    "        samples_hv = encoder(samples).sign()\n",
    "        predictions = model(samples_hv)\n",
    "        predictions = predictions * TARGET_STD + TARGET_MEAN\n",
    "        labels = labels * TARGET_STD + TARGET_MEAN\n",
    "        mse.update(predictions.cpu(), labels.unsqueeze(-1))\n",
    "\n",
    "print(f\"Testing mean squared error of {(mse.compute().item()):.3f}\")"
   ]
  },
  {
   "cell_type": "code",
   "execution_count": 130,
   "metadata": {},
   "outputs": [],
   "source": [
    "model = LevelHV(DIMENSIONS, randomness=0.1)\n",
    "\n",
    "# dataset.transform = NormalTransform(DATA_MEAN, DATA_STD)\n",
    "dataset.transform = MinMaxTransform(DATA_MIN, DATA_MAX)\n",
    "# dataset.target_transform = NormalTransform(TARGET_MEAN, TARGET_STD)\n",
    "dataset.target_transform = MinMaxTransform(TARGET_MIN, TARGET_MAX)"
   ]
  },
  {
   "cell_type": "code",
   "execution_count": 131,
   "metadata": {},
   "outputs": [
    {
     "name": "stderr",
     "output_type": "stream",
     "text": [
      "Epoch 1: 100%|██████████| 88/88 [00:00<00:00, 1958.60it/s]\n"
     ]
    }
   ],
   "source": [
    "with torch.no_grad():\n",
    "    for epoch in range(1):\n",
    "        for samples, labels in tqdm(train_dataloader, desc=f\"Epoch {epoch + 1}\"):\n",
    "            samples_hv = encoder(samples).sign()\n",
    "            model.model_update(samples_hv, labels)"
   ]
  },
  {
   "cell_type": "code",
   "execution_count": 132,
   "metadata": {},
   "outputs": [
    {
     "name": "stderr",
     "output_type": "stream",
     "text": [
      "Testing: 100%|██████████| 38/38 [00:00<00:00, 1266.75it/s]"
     ]
    },
    {
     "name": "stdout",
     "output_type": "stream",
     "text": [
      "Testing mean squared error of 44.254\n"
     ]
    },
    {
     "name": "stderr",
     "output_type": "stream",
     "text": [
      "\n"
     ]
    }
   ],
   "source": [
    "mse = torchmetrics.MeanSquaredError()\n",
    "\n",
    "with torch.no_grad():\n",
    "    for samples, labels in tqdm(test_dataloader, desc=\"Testing\"):\n",
    "        samples_hv = encoder(samples).sign()\n",
    "        predictions = model(samples_hv)\n",
    "        predictions = predictions * (TARGET_MAX - TARGET_MIN) + TARGET_MIN\n",
    "        labels = labels * (TARGET_MAX - TARGET_MIN) + TARGET_MIN\n",
    "        mse.update(predictions.cpu(), labels)\n",
    "\n",
    "print(f\"Testing mean squared error of {(mse.compute().item()):.3f}\")"
   ]
  },
  {
   "cell_type": "code",
   "execution_count": null,
   "metadata": {},
   "outputs": [],
   "source": []
  }
 ],
 "metadata": {
  "kernelspec": {
   "display_name": "torch-hd",
   "language": "python",
   "name": "python3"
  },
  "language_info": {
   "codemirror_mode": {
    "name": "ipython",
    "version": 3
   },
   "file_extension": ".py",
   "mimetype": "text/x-python",
   "name": "python",
   "nbconvert_exporter": "python",
   "pygments_lexer": "ipython3",
   "version": "3.10.9"
  },
  "orig_nbformat": 4,
  "vscode": {
   "interpreter": {
    "hash": "5acc785b295d31f381f77fcf5bd5cbbd84b03074c1dae528b74e6ea3f46fcd6f"
   }
  }
 },
 "nbformat": 4,
 "nbformat_minor": 2
}

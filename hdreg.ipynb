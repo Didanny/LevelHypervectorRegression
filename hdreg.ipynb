{
 "cells": [
  {
   "cell_type": "code",
   "execution_count": 1,
   "metadata": {},
   "outputs": [
    {
     "name": "stderr",
     "output_type": "stream",
     "text": [
      "/Users/mikeheddes/miniconda3/envs/torch/lib/python3.10/site-packages/tqdm/auto.py:21: TqdmWarning: IProgress not found. Please update jupyter and ipywidgets. See https://ipywidgets.readthedocs.io/en/stable/user_install.html\n",
      "  from .autonotebook import tqdm as notebook_tqdm\n"
     ]
    }
   ],
   "source": [
    "import torchhd\n",
    "from torchhd.datasets import AirfoilSelfNoise\n",
    "from torchhd import embeddings\n",
    "import level"
   ]
  },
  {
   "cell_type": "code",
   "execution_count": 2,
   "metadata": {},
   "outputs": [],
   "source": [
    "import math\n",
    "import torch\n",
    "import torch.nn as nn\n",
    "import torch.nn.functional as F\n",
    "from torch.utils.data import Dataset\n",
    "from torch.utils.data import DataLoader\n",
    "\n",
    "import matplotlib.pyplot as plt\n",
    "import torchmetrics\n",
    "from tqdm import tqdm"
   ]
  },
  {
   "cell_type": "code",
   "execution_count": 3,
   "metadata": {},
   "outputs": [],
   "source": [
    "DIMENSIONS = 10_000"
   ]
  },
  {
   "cell_type": "code",
   "execution_count": 4,
   "metadata": {},
   "outputs": [],
   "source": [
    "class RegHD(nn.Module):\n",
    "    def __init__(self, num_features, requires_grad=False) -> None:\n",
    "        super(RegHD, self).__init__()\n",
    "        \n",
    "        self.num_features = num_features\n",
    "        weight = torch.zeros(1, num_features)\n",
    "        self.weight = nn.Parameter(weight, requires_grad)\n",
    "    \n",
    "    @torch.no_grad()\n",
    "    def model_update(self, input, target, lr=0.00001):\n",
    "        error = target - F.linear(input, self.weight)\n",
    "        update = torch.sum(lr * error * input, dim=0)\n",
    "        self.weight.add_(update)\n",
    "        \n",
    "    def forward(self, input):\n",
    "        return F.linear(input, self.weight)"
   ]
  },
  {
   "cell_type": "code",
   "execution_count": 319,
   "metadata": {},
   "outputs": [],
   "source": [
    "class LevelHV(nn.Module):\n",
    "    def __init__(self, num_features, num_levels=100, randomness=2.0, requires_grad=False) -> None:\n",
    "        super(LevelHV, self).__init__()\n",
    "\n",
    "        self.num_levels = num_levels\n",
    "        self.num_features = num_features\n",
    "\n",
    "        self.levels = level.Levels(randomness, num_features, low=0, high=1)\n",
    "        self.memory = self.levels(torch.linspace(0, 1, self.num_levels))\n",
    "\n",
    "        weight = torch.zeros(1, num_features)\n",
    "        self.weight = nn.Parameter(weight, requires_grad)\n",
    "\n",
    "        self.correct = 0\n",
    "    \n",
    "    @torch.no_grad()\n",
    "    def add(self, input, target):\n",
    "        target_vec = self.levels(target)\n",
    "        input_target_pairs = torchhd.hash_table(input, target_vec)\n",
    "        self.weight.add_(input_target_pairs)\n",
    "\n",
    "    @torch.no_grad()\n",
    "    def add_missing(self, input, target, alpha=1.0):\n",
    "        target_vec = self.levels(target)\n",
    "        predict_vec = torchhd.bind(self.weight, torchhd.inverse(input)).sign()\n",
    "\n",
    "        similarity = torchhd.cosine_similarity(predict_vec.unsqueeze(-2), target_vec.unsqueeze(-2)).squeeze()\n",
    "        is_wrong = similarity < alpha\n",
    "\n",
    "        self.correct += (~is_wrong).sum().item()\n",
    "\n",
    "        if is_wrong.sum().item() == 0:\n",
    "            return\n",
    "\n",
    "        input_target_pairs = torchhd.hash_table(input[is_wrong], target_vec[is_wrong])\n",
    "        self.weight.add_(input_target_pairs)\n",
    "\n",
    "    @torch.no_grad()\n",
    "    def add_missing_topk(self, input, target, k=1):\n",
    "        target_vec = self.levels(target)\n",
    "        target_idx = torchhd.value_to_index(\n",
    "            target, self.levels.low, self.levels.high, self.num_levels\n",
    "        ).clamp(min=0, max=self.num_levels - 1).unsqueeze(-1)\n",
    "\n",
    "        predict_vec = torchhd.bind(self.weight, torchhd.inverse(input)).sign()\n",
    "\n",
    "        similarity = torchhd.dot_similarity(predict_vec.unsqueeze(-2), self.memory).squeeze(-2)\n",
    "        topk = torch.topk(similarity, k, dim=-1)\n",
    "\n",
    "        not_topk = torch.sum(target_idx == topk.indices, dim=-1) < 1\n",
    "        self.correct += (~not_topk).sum().item()\n",
    "\n",
    "        if not_topk.sum().item() == 0:\n",
    "            return\n",
    "\n",
    "        input_target_pairs = torchhd.hash_table(input[not_topk], target_vec[not_topk])\n",
    "        self.weight.add_(input_target_pairs)\n",
    "        \n",
    "        # input_target_pairs = torchhd.hash_table(input[not_topk], predict_vec[not_topk])\n",
    "        # self.weight.sub_(input_target_pairs)\n",
    "        \n",
    "    def forward(self, input):\n",
    "        predict_vec = torchhd.bind(self.weight, torchhd.inverse(input)).sign()\n",
    "        similarity = torchhd.dot_similarity(predict_vec, self.memory)\n",
    "        return similarity\n",
    "    \n",
    "    def argmax(self, similarity):\n",
    "        level_idx = torch.argmax(similarity, dim=-1, keepdim=True)\n",
    "        return (level_idx / (self.num_levels - 1)) * (self.levels.high - self.levels.low) + self.levels.low\n",
    "\n",
    "    def weighted_sum(self, similarity):\n",
    "        weight = similarity - torch.min(similarity, dim=-1, keepdim=True).values\n",
    "        weight = weight / torch.sum(weight, dim=-1, keepdim=True)\n",
    "        values = (torch.arange(self.num_levels) / (self.num_levels - 1)) * (self.levels.high - self.levels.low) + self.levels.low\n",
    "        return weight @ values.unsqueeze(-1)\n",
    "\n",
    "    def softmax(self, similarity):\n",
    "        weight = torch.softmax(similarity, dim=-1)\n",
    "        values = (torch.arange(self.num_levels) / (self.num_levels - 1)) * (self.levels.high - self.levels.low) + self.levels.low\n",
    "        return weight @ values.unsqueeze(-1)"
   ]
  },
  {
   "cell_type": "code",
   "execution_count": 6,
   "metadata": {},
   "outputs": [
    {
     "name": "stdout",
     "output_type": "stream",
     "text": [
      "Files already downloaded and verified\n"
     ]
    }
   ],
   "source": [
    "dataset = AirfoilSelfNoise('data', download=True)\n",
    "\n",
    "DATA_STD = dataset.data.std(0)\n",
    "DATA_MEAN = dataset.data.mean(0)\n",
    "TARGET_STD = dataset.targets.std(0)\n",
    "TARGET_MEAN = dataset.targets.mean(0)\n",
    "DATA_MIN = dataset.data.min(0).values\n",
    "DATA_MAX = dataset.data.max(0).values\n",
    "TARGET_MIN = dataset.targets.min(0).values\n",
    "TARGET_MAX = dataset.targets.max(0).values"
   ]
  },
  {
   "cell_type": "code",
   "execution_count": 7,
   "metadata": {},
   "outputs": [],
   "source": [
    "class NormalTransform:\n",
    "    def __init__(self, mean, std):\n",
    "        self.mean = mean\n",
    "        self.std = std\n",
    "\n",
    "    def __call__(self, input):\n",
    "        return (input - self.mean) / self.std\n",
    "\n",
    "class MinMaxTransform:\n",
    "    def __init__(self, min, max):\n",
    "        self.min = min\n",
    "        self.max = max\n",
    "\n",
    "    def __call__(self, input):\n",
    "        return (input - self.min) / (self.max - self.min)\n",
    "\n",
    "train_size = int(0.7 * len(dataset))\n",
    "test_size = len(dataset) - train_size\n",
    "train_data, test_data = torch.utils.data.random_split(dataset, [train_size, test_size])"
   ]
  },
  {
   "cell_type": "code",
   "execution_count": 8,
   "metadata": {},
   "outputs": [
    {
     "name": "stdout",
     "output_type": "stream",
     "text": [
      "tensor([8.0000e+02, 0.0000e+00, 3.0480e-01, 7.1300e+01, 2.6634e-03])\n",
      "tensor(126.2010)\n"
     ]
    }
   ],
   "source": [
    "item, label = dataset[0]\n",
    "print(item)\n",
    "print(label)"
   ]
  },
  {
   "cell_type": "code",
   "execution_count": 474,
   "metadata": {},
   "outputs": [],
   "source": [
    "model = RegHD(DIMENSIONS)\n",
    "\n",
    "# encoder = embeddings.Projection(5, DIMENSIONS)\n",
    "encoder = embeddings.Sinusoid(5, DIMENSIONS)\n",
    "# encoder = embeddings.Density(5, DIMENSIONS)\n",
    "\n",
    "dataset.transform = NormalTransform(DATA_MEAN, DATA_STD)\n",
    "# dataset.transform = MinMaxTransform(DATA_MIN, DATA_MAX)\n",
    "dataset.target_transform = NormalTransform(TARGET_MEAN, TARGET_STD)\n",
    "\n",
    "train_dataloader = DataLoader(train_data, batch_size=12, shuffle=True)\n",
    "test_dataloader = DataLoader(test_data, batch_size=1)"
   ]
  },
  {
   "cell_type": "code",
   "execution_count": 475,
   "metadata": {},
   "outputs": [
    {
     "name": "stderr",
     "output_type": "stream",
     "text": [
      "Epoch 1: 100%|██████████| 88/88 [00:00<00:00, 914.43it/s]\n",
      "Epoch 2: 100%|██████████| 88/88 [00:00<00:00, 1039.77it/s]\n",
      "Epoch 3: 100%|██████████| 88/88 [00:00<00:00, 1049.17it/s]\n",
      "Epoch 4: 100%|██████████| 88/88 [00:00<00:00, 1032.94it/s]\n",
      "Epoch 5: 100%|██████████| 88/88 [00:00<00:00, 805.14it/s]\n"
     ]
    }
   ],
   "source": [
    "with torch.no_grad():\n",
    "    for epoch in range(5):\n",
    "        for samples, labels in tqdm(train_dataloader, desc=f\"Epoch {epoch + 1}\"):\n",
    "            samples_hv = encoder(samples).sign()\n",
    "            model.model_update(samples_hv, labels.unsqueeze(-1))"
   ]
  },
  {
   "cell_type": "code",
   "execution_count": 476,
   "metadata": {},
   "outputs": [
    {
     "name": "stderr",
     "output_type": "stream",
     "text": [
      "Testing: 100%|██████████| 451/451 [00:00<00:00, 4322.28it/s]"
     ]
    },
    {
     "name": "stdout",
     "output_type": "stream",
     "text": [
      "Testing mean squared error of 11.033\n"
     ]
    },
    {
     "name": "stderr",
     "output_type": "stream",
     "text": [
      "\n"
     ]
    }
   ],
   "source": [
    "mse = torchmetrics.MeanSquaredError()\n",
    "\n",
    "with torch.no_grad():\n",
    "    for samples, labels in tqdm(test_dataloader, desc=\"Testing\"):\n",
    "        samples_hv = encoder(samples).sign()\n",
    "        predictions = model(samples_hv)\n",
    "        predictions = predictions * TARGET_STD + TARGET_MEAN\n",
    "        labels = labels * TARGET_STD + TARGET_MEAN\n",
    "        mse.update(predictions.cpu(), labels.unsqueeze(-1))\n",
    "\n",
    "print(f\"Testing mean squared error of {(mse.compute().item()):.3f}\")"
   ]
  },
  {
   "cell_type": "code",
   "execution_count": 480,
   "metadata": {},
   "outputs": [],
   "source": [
    "model = LevelHV(DIMENSIONS, randomness=5)\n",
    "\n",
    "# encoder = embeddings.Projection(5, DIMENSIONS)\n",
    "# encoder = embeddings.Sinusoid(5, DIMENSIONS)\n",
    "encoder = embeddings.Density(5, DIMENSIONS)\n",
    "\n",
    "dataset.transform = NormalTransform(DATA_MEAN, DATA_STD)\n",
    "# dataset.transform = MinMaxTransform(DATA_MIN, DATA_MAX)\n",
    "# dataset.target_transform = NormalTransform(TARGET_MEAN, TARGET_STD)\n",
    "dataset.target_transform = MinMaxTransform(TARGET_MIN, TARGET_MAX)\n",
    "\n",
    "train_dataloader = DataLoader(train_data, batch_size=12, shuffle=True)\n",
    "test_dataloader = DataLoader(test_data, batch_size=12)"
   ]
  },
  {
   "cell_type": "code",
   "execution_count": 481,
   "metadata": {},
   "outputs": [
    {
     "name": "stderr",
     "output_type": "stream",
     "text": [
      "Epoch 1: 100%|██████████| 88/88 [00:00<00:00, 327.54it/s]\n"
     ]
    },
    {
     "name": "stdout",
     "output_type": "stream",
     "text": [
      "192\n"
     ]
    },
    {
     "name": "stderr",
     "output_type": "stream",
     "text": [
      "Epoch 2: 100%|██████████| 88/88 [00:00<00:00, 374.60it/s]\n"
     ]
    },
    {
     "name": "stdout",
     "output_type": "stream",
     "text": [
      "398\n"
     ]
    },
    {
     "name": "stderr",
     "output_type": "stream",
     "text": [
      "Epoch 3: 100%|██████████| 88/88 [00:00<00:00, 370.80it/s]\n"
     ]
    },
    {
     "name": "stdout",
     "output_type": "stream",
     "text": [
      "622\n"
     ]
    },
    {
     "name": "stderr",
     "output_type": "stream",
     "text": [
      "Epoch 4: 100%|██████████| 88/88 [00:00<00:00, 374.22it/s]\n"
     ]
    },
    {
     "name": "stdout",
     "output_type": "stream",
     "text": [
      "855\n"
     ]
    },
    {
     "name": "stderr",
     "output_type": "stream",
     "text": [
      "Epoch 5: 100%|██████████| 88/88 [00:00<00:00, 375.03it/s]"
     ]
    },
    {
     "name": "stdout",
     "output_type": "stream",
     "text": [
      "1065\n"
     ]
    },
    {
     "name": "stderr",
     "output_type": "stream",
     "text": [
      "\n"
     ]
    }
   ],
   "source": [
    "with torch.no_grad():\n",
    "    for epoch in range(5):\n",
    "        for samples, labels in tqdm(train_dataloader, desc=f\"Epoch {epoch + 1}\"):\n",
    "            samples_hv = encoder(samples).sign()\n",
    "            # model.add(samples_hv, labels)\n",
    "            # model.add_missing(samples_hv, labels, 0.15)\n",
    "            model.add_missing_topk(samples_hv, labels, 8)\n",
    "\n",
    "        print(model.correct)"
   ]
  },
  {
   "cell_type": "code",
   "execution_count": 482,
   "metadata": {},
   "outputs": [
    {
     "name": "stderr",
     "output_type": "stream",
     "text": [
      "Testing: 100%|██████████| 38/38 [00:00<00:00, 404.08it/s]"
     ]
    },
    {
     "name": "stdout",
     "output_type": "stream",
     "text": [
      "Testing argmax mean squared error of 52.582\n",
      "Testing weighted mean squared error of 31.962\n",
      "Testing softmax mean squared error of 33.192\n"
     ]
    },
    {
     "name": "stderr",
     "output_type": "stream",
     "text": [
      "\n"
     ]
    }
   ],
   "source": [
    "mse_argmax = torchmetrics.MeanSquaredError()\n",
    "mse_weighted = torchmetrics.MeanSquaredError()\n",
    "mse_softmax = torchmetrics.MeanSquaredError()\n",
    "\n",
    "with torch.no_grad():\n",
    "    for samples, labels in tqdm(test_dataloader, desc=\"Testing\"):\n",
    "        samples_hv = encoder(samples).sign()\n",
    "        similarity = model(samples_hv)\n",
    "\n",
    "        predictions_1 = model.argmax(similarity)\n",
    "        predictions_2 = model.weighted_sum(similarity)\n",
    "        predictions_3 = model.softmax(similarity / 200)\n",
    "\n",
    "        predictions_1 = predictions_1 * (TARGET_MAX - TARGET_MIN) + TARGET_MIN\n",
    "        predictions_2 = predictions_2 * (TARGET_MAX - TARGET_MIN) + TARGET_MIN\n",
    "        predictions_3 = predictions_3 * (TARGET_MAX - TARGET_MIN) + TARGET_MIN\n",
    "\n",
    "        labels = labels * (TARGET_MAX - TARGET_MIN) + TARGET_MIN\n",
    "\n",
    "        mse_argmax.update(predictions_1.cpu(), labels.unsqueeze(-1))\n",
    "        mse_weighted.update(predictions_2.cpu(), labels.unsqueeze(-1))\n",
    "        mse_softmax.update(predictions_3.cpu(), labels.unsqueeze(-1))\n",
    "\n",
    "print(f\"Testing argmax mean squared error of {(mse_argmax.compute().item()):.3f}\")\n",
    "print(f\"Testing weighted mean squared error of {(mse_weighted.compute().item()):.3f}\")\n",
    "print(f\"Testing softmax mean squared error of {(mse_softmax.compute().item()):.3f}\")"
   ]
  },
  {
   "cell_type": "code",
   "execution_count": 483,
   "metadata": {},
   "outputs": [
    {
     "data": {
      "text/plain": [
       "[0, 1, 3, 4, 5, 6, 9, 11, 12, 13]"
      ]
     },
     "execution_count": 483,
     "metadata": {},
     "output_type": "execute_result"
    }
   ],
   "source": [
    "sorted(train_data.indices)[:10]"
   ]
  },
  {
   "cell_type": "code",
   "execution_count": 484,
   "metadata": {},
   "outputs": [
    {
     "data": {
      "text/plain": [
       "[2, 7, 8, 10, 18, 20, 23, 25, 29, 35]"
      ]
     },
     "execution_count": 484,
     "metadata": {},
     "output_type": "execute_result"
    }
   ],
   "source": [
    "sorted(test_data.indices)[:10]"
   ]
  },
  {
   "cell_type": "code",
   "execution_count": 492,
   "metadata": {},
   "outputs": [
    {
     "data": {
      "image/png": "[encoded data removed]",
      "text/plain": [
       "<Figure size 640x480 with 1 Axes>"
      ]
     },
     "metadata": {},
     "output_type": "display_data"
    }
   ],
   "source": [
    "with torch.no_grad():\n",
    "    samples, labels = dataset[123]\n",
    "    samples_hv = encoder(samples).sign()\n",
    "    similarity = model(samples_hv)\n",
    "\n",
    "    x = torch.linspace(TARGET_MIN, TARGET_MAX, model.num_levels)\n",
    "    values = (torch.arange(model.num_levels) / (model.num_levels - 1)) * (model.levels.high - model.levels.low) + model.levels.low\n",
    "    values.unsqueeze_(-1)\n",
    "\n",
    "    weighted = similarity - torch.min(similarity, dim=-1, keepdim=True).values\n",
    "    weighted = weighted / torch.sum(weighted, dim=-1, keepdim=True)\n",
    "    argmax = torch.argmax(similarity, dim=-1, keepdim=True)\n",
    "    argmax = torch.nn.functional.one_hot(argmax, num_classes=model.num_levels).float()\n",
    "    softmax = torch.softmax(similarity / 200, dim=-1)\n",
    "\n",
    "    plt.axvline(labels.item() * (TARGET_MAX - TARGET_MIN) + TARGET_MIN, 0, 1, color=\"C3\", label=\"Target\")\n",
    "\n",
    "    plt.scatter(x.tolist(), weighted.tolist(), label=\"Weights\")\n",
    "    plt.axvline((weighted @ values).item() * (TARGET_MAX - TARGET_MIN) + TARGET_MIN, 0, 1, color=\"C0\", label=\"Weighted\")\n",
    "\n",
    "    plt.scatter(x.tolist(), argmax.tolist(), label=\"Argmax\")\n",
    "    plt.axvline((argmax @ values).item() * (TARGET_MAX - TARGET_MIN) + TARGET_MIN, 0, 1, color=\"C1\", label=\"Argmax\")\n",
    "\n",
    "    plt.scatter(x.tolist(), softmax.tolist(), label=\"Softmax\")\n",
    "    plt.axvline((softmax @ values).item() * (TARGET_MAX - TARGET_MIN) + TARGET_MIN, 0, 1, color=\"C2\", label=\"Softmax\")\n",
    "\n",
    "    plt.yscale(\"log\")\n",
    "    plt.ylim(0.001, 1)\n",
    "    plt.legend(loc='center left', bbox_to_anchor=(1.0, 0.5))\n",
    "    # plt.tight_layout()\n",
    "\n",
    "plt.show()"
   ]
  },
  {
   "cell_type": "code",
   "execution_count": null,
   "metadata": {},
   "outputs": [],
   "source": []
  }
 ],
 "metadata": {
  "kernelspec": {
   "display_name": "torch-hd",
   "language": "python",
   "name": "python3"
  },
  "language_info": {
   "codemirror_mode": {
    "name": "ipython",
    "version": 3
   },
   "file_extension": ".py",
   "mimetype": "text/x-python",
   "name": "python",
   "nbconvert_exporter": "python",
   "pygments_lexer": "ipython3",
   "version": "3.10.9"
  },
  "orig_nbformat": 4,
  "vscode": {
   "interpreter": {
    "hash": "5acc785b295d31f381f77fcf5bd5cbbd84b03074c1dae528b74e6ea3f46fcd6f"
   }
  }
 },
 "nbformat": 4,
 "nbformat_minor": 2
}

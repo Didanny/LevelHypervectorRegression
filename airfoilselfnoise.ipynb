{
 "cells": [
  {
   "cell_type": "code",
   "execution_count": 90,
   "metadata": {},
   "outputs": [],
   "source": [
    "import torchhd\n",
    "from torchhd.datasets import AirfoilSelfNoise\n",
    "from torchhd import embeddings\n",
    "\n",
    "import torch\n",
    "from torch.utils.data import DataLoader\n",
    "\n",
    "from sklearn.preprocessing import QuantileTransformer, MaxAbsScaler, MinMaxScaler, StandardScaler\n",
    "\n",
    "import torchmetrics\n",
    "from tqdm import tqdm"
   ]
  },
  {
   "cell_type": "code",
   "execution_count": 91,
   "metadata": {},
   "outputs": [],
   "source": [
    "DIMENSIONS = 2048\n",
    "NUM_EPOCHS = 10"
   ]
  },
  {
   "cell_type": "code",
   "execution_count": 92,
   "metadata": {},
   "outputs": [
    {
     "name": "stdout",
     "output_type": "stream",
     "text": [
      "Files already downloaded and verified\n"
     ]
    }
   ],
   "source": [
    "dataset = AirfoilSelfNoise('../data', download=True)"
   ]
  },
  {
   "cell_type": "code",
   "execution_count": 93,
   "metadata": {},
   "outputs": [],
   "source": [
    "data2 = dataset.data"
   ]
  },
  {
   "cell_type": "code",
   "execution_count": 94,
   "metadata": {},
   "outputs": [],
   "source": [
    "quantile_transformer = QuantileTransformer(output_distribution=\"normal\", random_state=0)\n",
    "max_abs_scaler = MaxAbsScaler()\n",
    "standard_scaler = StandardScaler()\n",
    "min_max_scaler = MinMaxScaler()"
   ]
  },
  {
   "cell_type": "code",
   "execution_count": 95,
   "metadata": {},
   "outputs": [],
   "source": [
    "dataset.data = quantile_transformer.fit_transform(dataset.data)\n",
    "dataset.data = max_abs_scaler.fit_transform(dataset.data)\n",
    "dataset.data = torch.tensor(standard_scaler.fit_transform(dataset.data), dtype=torch.float)\n",
    "dataset.targets = torch.tensor(min_max_scaler.fit_transform(dataset.targets.view(-1, 1)), dtype=torch.float)"
   ]
  },
  {
   "cell_type": "code",
   "execution_count": 96,
   "metadata": {},
   "outputs": [
    {
     "data": {
      "text/plain": [
       "tensor([[0.6068],\n",
       "        [0.5802],\n",
       "        [0.6002],\n",
       "        ...,\n",
       "        [0.0857],\n",
       "        [0.0756],\n",
       "        [0.0219]])"
      ]
     },
     "execution_count": 96,
     "metadata": {},
     "output_type": "execute_result"
    }
   ],
   "source": [
    "dataset.targets"
   ]
  },
  {
   "cell_type": "code",
   "execution_count": 97,
   "metadata": {},
   "outputs": [
    {
     "name": "stderr",
     "output_type": "stream",
     "text": [
      "/tmp/ipykernel_548/551401381.py:1: UserWarning: To copy construct from a tensor, it is recommended to use sourceTensor.clone().detach() or sourceTensor.clone().detach().requires_grad_(True), rather than torch.tensor(sourceTensor).\n",
      "  torch.tensor(dataset.targets.flatten())\n"
     ]
    },
    {
     "data": {
      "text/plain": [
       "tensor([0.6068, 0.5802, 0.6002,  ..., 0.0857, 0.0756, 0.0219])"
      ]
     },
     "execution_count": 97,
     "metadata": {},
     "output_type": "execute_result"
    }
   ],
   "source": [
    "torch.tensor(dataset.targets.flatten())"
   ]
  },
  {
   "cell_type": "code",
   "execution_count": 98,
   "metadata": {},
   "outputs": [
    {
     "data": {
      "text/plain": [
       "tensor([[-0.4287, -1.7622,  1.8686,  1.2794, -0.5631],\n",
       "        [-0.2795, -1.7622,  1.8686,  1.2794, -0.5631],\n",
       "        [-0.1398, -1.7622,  1.8686,  1.2794, -0.5631],\n",
       "        ...,\n",
       "        [ 0.5901,  0.8498,  0.0259, -0.2622,  1.8525],\n",
       "        [ 0.7719,  0.8498,  0.0259, -0.2622,  1.8525],\n",
       "        [ 0.9820,  0.8498,  0.0259, -0.2622,  1.8525]])"
      ]
     },
     "execution_count": 98,
     "metadata": {},
     "output_type": "execute_result"
    }
   ],
   "source": [
    "dataset.data"
   ]
  },
  {
   "cell_type": "code",
   "execution_count": 99,
   "metadata": {},
   "outputs": [],
   "source": [
    "train_size = int(0.7 * len(dataset))\n",
    "test_size = len(dataset) - train_size\n",
    "train_data, test_data = torch.utils.data.random_split(dataset, [train_size, test_size])\n",
    "\n",
    "train_dataloader = DataLoader(train_data, batch_size=1, shuffle=True)\n",
    "test_dataloader = DataLoader(test_data, batch_size=1)"
   ]
  },
  {
   "cell_type": "code",
   "execution_count": 100,
   "metadata": {},
   "outputs": [],
   "source": [
    "# item, label = next(iter(train_dataloader))\n",
    "# print(item)\n",
    "# print(label)"
   ]
  },
  {
   "cell_type": "code",
   "execution_count": 101,
   "metadata": {},
   "outputs": [
    {
     "data": {
      "text/plain": [
       "array([[-0.42872327, -1.76217817,  1.86856929,  1.27942626, -0.56306083],\n",
       "       [-0.27950185, -1.76217817,  1.86856929,  1.27942626, -0.56306083],\n",
       "       [-0.13983036, -1.76217817,  1.86856929,  1.27942626, -0.56306083],\n",
       "       ...,\n",
       "       [ 0.59012637,  0.84977959,  0.02591884, -0.26220202,  1.85252965],\n",
       "       [ 0.77193837,  0.84977959,  0.02591884, -0.26220202,  1.85252965],\n",
       "       [ 0.98197709,  0.84977959,  0.02591884, -0.26220202,  1.85252965]])"
      ]
     },
     "execution_count": 101,
     "metadata": {},
     "output_type": "execute_result"
    }
   ],
   "source": [
    "data2 = QuantileTransformer(output_distribution=\"normal\", random_state=0).fit_transform(dataset.data)\n",
    "data2 = MaxAbsScaler().fit_transform(data2)\n",
    "data2 = StandardScaler().fit_transform(data2)\n",
    "data2"
   ]
  },
  {
   "cell_type": "code",
   "execution_count": 102,
   "metadata": {},
   "outputs": [
    {
     "data": {
      "text/plain": [
       "tensor([[-0.4287, -1.7622,  1.8686,  1.2794, -0.5631],\n",
       "        [-0.2795, -1.7622,  1.8686,  1.2794, -0.5631],\n",
       "        [-0.1398, -1.7622,  1.8686,  1.2794, -0.5631],\n",
       "        ...,\n",
       "        [ 0.5901,  0.8498,  0.0259, -0.2622,  1.8525],\n",
       "        [ 0.7719,  0.8498,  0.0259, -0.2622,  1.8525],\n",
       "        [ 0.9820,  0.8498,  0.0259, -0.2622,  1.8525]])"
      ]
     },
     "execution_count": 102,
     "metadata": {},
     "output_type": "execute_result"
    }
   ],
   "source": [
    "dataset.data"
   ]
  },
  {
   "cell_type": "code",
   "execution_count": 103,
   "metadata": {},
   "outputs": [],
   "source": [
    "class LevelHVModel(torch.nn.Module):\n",
    "    def __init__(self, num_features, num_levels=100, lr=0.00001) -> None:\n",
    "        super(LevelHVModel, self).__init__()\n",
    "        \n",
    "        self.lr = lr\n",
    "        self.M = torch.zeros(1, DIMENSIONS)\n",
    "        self.project_sample = embeddings.Projection(num_features, DIMENSIONS)\n",
    "        self.num_levels = num_levels\n",
    "        self.project_target = embeddings.Level(num_levels, DIMENSIONS, low=-3, high=3)\n",
    "        self.level_hypervectors = self.project_target.weight\n",
    "        \n",
    "    def encode(self, x):\n",
    "        sample_hv = self.project_sample(x)\n",
    "        return torchhd.hard_quantize(sample_hv)\n",
    "    \n",
    "    def model_update(self, x, y):\n",
    "        update = torchhd.bundle(self.M, self.lr * torchhd.bind(self.encode(x), (self.project_target(y))))\n",
    "        update = update.mean(0)\n",
    "        self.M = update\n",
    "        \n",
    "    def forward(self, x):\n",
    "        prediciton_hv = torchhd.bind(self.M, torchhd.inverse(self.encode(x)))\n",
    "        similarities = torchhd.cos_similarity(prediciton_hv, self.level_hypervectors)\n",
    "        idx = similarities.argmax()\n",
    "        prediction = torchhd.functional.map_range(idx.to(torch.float), 0, self.num_levels - 1, 0, 1)\n",
    "        return prediction"
   ]
  },
  {
   "cell_type": "code",
   "execution_count": 104,
   "metadata": {},
   "outputs": [],
   "source": [
    "model = LevelHVModel(5, num_levels=100, lr=0.0001)"
   ]
  },
  {
   "cell_type": "code",
   "execution_count": 105,
   "metadata": {},
   "outputs": [
    {
     "data": {
      "text/plain": [
       "1052"
      ]
     },
     "execution_count": 105,
     "metadata": {},
     "output_type": "execute_result"
    }
   ],
   "source": [
    "len(train_dataloader.dataset)"
   ]
  },
  {
   "cell_type": "code",
   "execution_count": 106,
   "metadata": {},
   "outputs": [],
   "source": [
    "test_metric = torchmetrics.MeanSquaredError()"
   ]
  },
  {
   "cell_type": "code",
   "execution_count": 107,
   "metadata": {},
   "outputs": [
    {
     "data": {
      "text/plain": [
       "tensor(0.5000)"
      ]
     },
     "execution_count": 107,
     "metadata": {},
     "output_type": "execute_result"
    }
   ],
   "source": [
    "a = torch.tensor([0, 0, 0, 0.])\n",
    "b = torch.tensor([1, 0, 0, 0.])\n",
    "c = torch.tensor([1, 0, 1, 0.])\n",
    "\n",
    "test_metric(a, c)"
   ]
  },
  {
   "cell_type": "code",
   "execution_count": 108,
   "metadata": {},
   "outputs": [
    {
     "data": {
      "text/plain": [
       "tensor([[0., 0., 0.,  ..., 0., 0., 0.]])"
      ]
     },
     "execution_count": 108,
     "metadata": {},
     "output_type": "execute_result"
    }
   ],
   "source": [
    "model.M"
   ]
  },
  {
   "cell_type": "code",
   "execution_count": 109,
   "metadata": {},
   "outputs": [
    {
     "name": "stderr",
     "output_type": "stream",
     "text": [
      "Epoch: 1: 100%|██████████| 1052/1052 [00:00<00:00, 2451.09it/s]\n",
      "Evaluation: 1: 100%|██████████| 1052/1052 [00:00<00:00, 1486.82it/s]\n",
      "Epoch: 2: 100%|██████████| 1052/1052 [00:00<00:00, 2609.64it/s]\n",
      "Evaluation: 2: 100%|██████████| 1052/1052 [00:00<00:00, 1422.66it/s]\n",
      "Epoch: 3: 100%|██████████| 1052/1052 [00:00<00:00, 2669.90it/s]\n",
      "Evaluation: 3: 100%|██████████| 1052/1052 [00:00<00:00, 1294.55it/s]\n",
      "Epoch: 4: 100%|██████████| 1052/1052 [00:00<00:00, 2525.40it/s]\n",
      "Evaluation: 4: 100%|██████████| 1052/1052 [00:00<00:00, 1414.24it/s]\n",
      "Epoch: 5: 100%|██████████| 1052/1052 [00:00<00:00, 2648.28it/s]\n",
      "Evaluation: 5: 100%|██████████| 1052/1052 [00:00<00:00, 1520.96it/s]\n",
      "Epoch: 6: 100%|██████████| 1052/1052 [00:00<00:00, 2748.09it/s]\n",
      "Evaluation: 6: 100%|██████████| 1052/1052 [00:00<00:00, 1485.81it/s]\n",
      "Epoch: 7: 100%|██████████| 1052/1052 [00:00<00:00, 2747.01it/s]\n",
      "Evaluation: 7: 100%|██████████| 1052/1052 [00:00<00:00, 1507.38it/s]\n",
      "Epoch: 8: 100%|██████████| 1052/1052 [00:00<00:00, 2779.54it/s]\n",
      "Evaluation: 8: 100%|██████████| 1052/1052 [00:00<00:00, 1491.22it/s]\n",
      "Epoch: 9: 100%|██████████| 1052/1052 [00:00<00:00, 2773.03it/s]\n",
      "Evaluation: 9: 100%|██████████| 1052/1052 [00:00<00:00, 1478.63it/s]\n",
      "Epoch: 10: 100%|██████████| 1052/1052 [00:00<00:00, 2788.05it/s]\n",
      "Evaluation: 10: 100%|██████████| 1052/1052 [00:00<00:00, 1485.27it/s]\n"
     ]
    }
   ],
   "source": [
    "mse_errors = torch.zeros(NUM_EPOCHS)\n",
    "r2_scores = torch.zeros(NUM_EPOCHS) \n",
    "\n",
    "mse = torchmetrics.MeanSquaredError()\n",
    "r2 = torchmetrics.R2Score()\n",
    "\n",
    "with torch.no_grad():\n",
    "    all_predictions = torch.zeros(train_size)\n",
    "    true_labels = torch.zeros(train_size)\n",
    "    for epoch in range(NUM_EPOCHS):\n",
    "        for sample, label in tqdm(train_dataloader, desc=\"Epoch: {}\".format(epoch + 1)):\n",
    "            model.model_update(sample, label)\n",
    "        i = 0\n",
    "        for sample, label in tqdm(train_dataloader, desc=\"Evaluation: {}\".format(epoch + 1)):\n",
    "            prediction = model(sample)\n",
    "            all_predictions[i] = prediction\n",
    "            true_labels[i] = label\n",
    "            i += 1\n",
    "        mse_errors[epoch] = mse(all_predictions, true_labels)\n",
    "        r2_scores[epoch] = r2(all_predictions, true_labels)\n",
    "            "
   ]
  },
  {
   "cell_type": "code",
   "execution_count": 110,
   "metadata": {},
   "outputs": [
    {
     "data": {
      "text/plain": [
       "MAP([[ 0.1480,  0.0220, -0.0440,  ..., -0.0140, -0.0720,  0.0140]])"
      ]
     },
     "execution_count": 110,
     "metadata": {},
     "output_type": "execute_result"
    }
   ],
   "source": [
    "model.M"
   ]
  },
  {
   "cell_type": "code",
   "execution_count": 111,
   "metadata": {},
   "outputs": [
    {
     "data": {
      "text/plain": [
       "tensor([0.1283, 0.1282, 0.1282, 0.1282, 0.1282, 0.1282, 0.1282, 0.1282, 0.1282,\n",
       "        0.1282])"
      ]
     },
     "execution_count": 111,
     "metadata": {},
     "output_type": "execute_result"
    }
   ],
   "source": [
    "mse_errors"
   ]
  },
  {
   "cell_type": "code",
   "execution_count": null,
   "metadata": {},
   "outputs": [],
   "source": []
  },
  {
   "cell_type": "code",
   "execution_count": 112,
   "metadata": {},
   "outputs": [
    {
     "data": {
      "text/plain": [
       "tensor([-2.8020, -2.8009, -2.8012, -2.8009, -2.8010, -2.8010, -2.8009, -2.8009,\n",
       "        -2.8009, -2.8009])"
      ]
     },
     "execution_count": 112,
     "metadata": {},
     "output_type": "execute_result"
    }
   ],
   "source": [
    "r2_scores"
   ]
  },
  {
   "cell_type": "code",
   "execution_count": 113,
   "metadata": {},
   "outputs": [
    {
     "data": {
      "text/plain": [
       "tensor([0.5253, 0.5859, 0.5859,  ..., 0.7374, 0.0808, 0.5859])"
      ]
     },
     "execution_count": 113,
     "metadata": {},
     "output_type": "execute_result"
    }
   ],
   "source": [
    "all_predictions"
   ]
  },
  {
   "cell_type": "code",
   "execution_count": 114,
   "metadata": {},
   "outputs": [
    {
     "data": {
      "text/plain": [
       "tensor([0.1934, 0.4144, 0.6675,  ..., 0.7604, 0.5596, 0.5941])"
      ]
     },
     "execution_count": 114,
     "metadata": {},
     "output_type": "execute_result"
    }
   ],
   "source": [
    "true_labels"
   ]
  },
  {
   "cell_type": "code",
   "execution_count": null,
   "metadata": {},
   "outputs": [],
   "source": []
  }
 ],
 "metadata": {
  "kernelspec": {
   "display_name": "torch-hd",
   "language": "python",
   "name": "python3"
  },
  "language_info": {
   "codemirror_mode": {
    "name": "ipython",
    "version": 3
   },
   "file_extension": ".py",
   "mimetype": "text/x-python",
   "name": "python",
   "nbconvert_exporter": "python",
   "pygments_lexer": "ipython3",
   "version": "3.8.10"
  },
  "orig_nbformat": 4
 },
 "nbformat": 4,
 "nbformat_minor": 2
}
